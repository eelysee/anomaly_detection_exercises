{
 "cells": [
  {
   "cell_type": "markdown",
   "id": "483a4cb6",
   "metadata": {},
   "source": [
    "# Anomaly Detection: Continious Variable Probabilistic Methods for Identifying Outliers"
   ]
  },
  {
   "cell_type": "code",
   "execution_count": 1,
   "id": "3cfb3a40",
   "metadata": {},
   "outputs": [],
   "source": [
    "import numpy as np\n",
    "import pandas as pd\n",
    "import seaborn as sns\n",
    "import itertools\n",
    "from pydataset import data\n",
    "\n",
    "import matplotlib.pyplot as plt\n",
    "%matplotlib inline"
   ]
  },
  {
   "cell_type": "markdown",
   "id": "c79a887d",
   "metadata": {},
   "source": [
    "<hr style=\"border:2px solid gray\">"
   ]
  },
  {
   "cell_type": "code",
   "execution_count": 2,
   "id": "0b7d2b6b",
   "metadata": {},
   "outputs": [],
   "source": [
    "url = \"https://gist.githubusercontent.com/ryanorsinger/6218f5731f3df7cb4771ff3879fdeaa3/raw/88cb6bed276e2236c33df011bd753b6c73832c30/quartet.csv\"    "
   ]
  },
  {
   "cell_type": "code",
   "execution_count": 3,
   "id": "14795c60",
   "metadata": {},
   "outputs": [],
   "source": [
    "df = pd.read_csv(url)"
   ]
  },
  {
   "cell_type": "code",
   "execution_count": 4,
   "id": "a2e618cc",
   "metadata": {},
   "outputs": [
    {
     "data": {
      "text/html": [
       "<div>\n",
       "<style scoped>\n",
       "    .dataframe tbody tr th:only-of-type {\n",
       "        vertical-align: middle;\n",
       "    }\n",
       "\n",
       "    .dataframe tbody tr th {\n",
       "        vertical-align: top;\n",
       "    }\n",
       "\n",
       "    .dataframe thead th {\n",
       "        text-align: right;\n",
       "    }\n",
       "</style>\n",
       "<table border=\"1\" class=\"dataframe\">\n",
       "  <thead>\n",
       "    <tr style=\"text-align: right;\">\n",
       "      <th></th>\n",
       "      <th>id</th>\n",
       "      <th>dataset</th>\n",
       "      <th>x</th>\n",
       "      <th>y</th>\n",
       "    </tr>\n",
       "  </thead>\n",
       "  <tbody>\n",
       "    <tr>\n",
       "      <th>0</th>\n",
       "      <td>0</td>\n",
       "      <td>I</td>\n",
       "      <td>10.0</td>\n",
       "      <td>8.04</td>\n",
       "    </tr>\n",
       "    <tr>\n",
       "      <th>27</th>\n",
       "      <td>27</td>\n",
       "      <td>III</td>\n",
       "      <td>14.0</td>\n",
       "      <td>8.84</td>\n",
       "    </tr>\n",
       "    <tr>\n",
       "      <th>16</th>\n",
       "      <td>16</td>\n",
       "      <td>II</td>\n",
       "      <td>14.0</td>\n",
       "      <td>8.10</td>\n",
       "    </tr>\n",
       "  </tbody>\n",
       "</table>\n",
       "</div>"
      ],
      "text/plain": [
       "    id dataset     x     y\n",
       "0    0       I  10.0  8.04\n",
       "27  27     III  14.0  8.84\n",
       "16  16      II  14.0  8.10"
      ]
     },
     "execution_count": 4,
     "metadata": {},
     "output_type": "execute_result"
    }
   ],
   "source": [
    "df.sample(3)"
   ]
  },
  {
   "cell_type": "code",
   "execution_count": 42,
   "id": "ccd11b84",
   "metadata": {},
   "outputs": [
    {
     "name": "stdout",
     "output_type": "stream",
     "text": [
      "<class 'pandas.core.frame.DataFrame'>\n",
      "RangeIndex: 44 entries, 0 to 43\n",
      "Data columns (total 4 columns):\n",
      " #   Column   Non-Null Count  Dtype  \n",
      "---  ------   --------------  -----  \n",
      " 0   id       44 non-null     int64  \n",
      " 1   dataset  44 non-null     object \n",
      " 2   x        44 non-null     float64\n",
      " 3   y        44 non-null     float64\n",
      "dtypes: float64(2), int64(1), object(1)\n",
      "memory usage: 1.5+ KB\n"
     ]
    }
   ],
   "source": [
    "df.info()"
   ]
  },
  {
   "cell_type": "code",
   "execution_count": 5,
   "id": "94e746c7",
   "metadata": {},
   "outputs": [
    {
     "data": {
      "text/html": [
       "<div>\n",
       "<style scoped>\n",
       "    .dataframe tbody tr th:only-of-type {\n",
       "        vertical-align: middle;\n",
       "    }\n",
       "\n",
       "    .dataframe tbody tr th {\n",
       "        vertical-align: top;\n",
       "    }\n",
       "\n",
       "    .dataframe thead tr th {\n",
       "        text-align: left;\n",
       "    }\n",
       "\n",
       "    .dataframe thead tr:last-of-type th {\n",
       "        text-align: right;\n",
       "    }\n",
       "</style>\n",
       "<table border=\"1\" class=\"dataframe\">\n",
       "  <thead>\n",
       "    <tr>\n",
       "      <th></th>\n",
       "      <th colspan=\"8\" halign=\"left\">id</th>\n",
       "      <th colspan=\"5\" halign=\"left\">x</th>\n",
       "      <th colspan=\"8\" halign=\"left\">y</th>\n",
       "    </tr>\n",
       "    <tr>\n",
       "      <th></th>\n",
       "      <th>count</th>\n",
       "      <th>mean</th>\n",
       "      <th>std</th>\n",
       "      <th>min</th>\n",
       "      <th>25%</th>\n",
       "      <th>50%</th>\n",
       "      <th>75%</th>\n",
       "      <th>max</th>\n",
       "      <th>count</th>\n",
       "      <th>mean</th>\n",
       "      <th>...</th>\n",
       "      <th>75%</th>\n",
       "      <th>max</th>\n",
       "      <th>count</th>\n",
       "      <th>mean</th>\n",
       "      <th>std</th>\n",
       "      <th>min</th>\n",
       "      <th>25%</th>\n",
       "      <th>50%</th>\n",
       "      <th>75%</th>\n",
       "      <th>max</th>\n",
       "    </tr>\n",
       "    <tr>\n",
       "      <th>dataset</th>\n",
       "      <th></th>\n",
       "      <th></th>\n",
       "      <th></th>\n",
       "      <th></th>\n",
       "      <th></th>\n",
       "      <th></th>\n",
       "      <th></th>\n",
       "      <th></th>\n",
       "      <th></th>\n",
       "      <th></th>\n",
       "      <th></th>\n",
       "      <th></th>\n",
       "      <th></th>\n",
       "      <th></th>\n",
       "      <th></th>\n",
       "      <th></th>\n",
       "      <th></th>\n",
       "      <th></th>\n",
       "      <th></th>\n",
       "      <th></th>\n",
       "      <th></th>\n",
       "    </tr>\n",
       "  </thead>\n",
       "  <tbody>\n",
       "    <tr>\n",
       "      <th>I</th>\n",
       "      <td>11.0</td>\n",
       "      <td>5.0</td>\n",
       "      <td>3.316625</td>\n",
       "      <td>0.0</td>\n",
       "      <td>2.5</td>\n",
       "      <td>5.0</td>\n",
       "      <td>7.5</td>\n",
       "      <td>10.0</td>\n",
       "      <td>11.0</td>\n",
       "      <td>9.0</td>\n",
       "      <td>...</td>\n",
       "      <td>11.5</td>\n",
       "      <td>14.0</td>\n",
       "      <td>11.0</td>\n",
       "      <td>7.500909</td>\n",
       "      <td>2.031568</td>\n",
       "      <td>4.26</td>\n",
       "      <td>6.315</td>\n",
       "      <td>7.58</td>\n",
       "      <td>8.57</td>\n",
       "      <td>10.84</td>\n",
       "    </tr>\n",
       "    <tr>\n",
       "      <th>II</th>\n",
       "      <td>11.0</td>\n",
       "      <td>16.0</td>\n",
       "      <td>3.316625</td>\n",
       "      <td>11.0</td>\n",
       "      <td>13.5</td>\n",
       "      <td>16.0</td>\n",
       "      <td>18.5</td>\n",
       "      <td>21.0</td>\n",
       "      <td>11.0</td>\n",
       "      <td>9.0</td>\n",
       "      <td>...</td>\n",
       "      <td>11.5</td>\n",
       "      <td>14.0</td>\n",
       "      <td>11.0</td>\n",
       "      <td>7.500909</td>\n",
       "      <td>2.031657</td>\n",
       "      <td>3.10</td>\n",
       "      <td>6.695</td>\n",
       "      <td>8.14</td>\n",
       "      <td>8.95</td>\n",
       "      <td>9.26</td>\n",
       "    </tr>\n",
       "    <tr>\n",
       "      <th>III</th>\n",
       "      <td>11.0</td>\n",
       "      <td>27.0</td>\n",
       "      <td>3.316625</td>\n",
       "      <td>22.0</td>\n",
       "      <td>24.5</td>\n",
       "      <td>27.0</td>\n",
       "      <td>29.5</td>\n",
       "      <td>32.0</td>\n",
       "      <td>11.0</td>\n",
       "      <td>9.0</td>\n",
       "      <td>...</td>\n",
       "      <td>11.5</td>\n",
       "      <td>14.0</td>\n",
       "      <td>11.0</td>\n",
       "      <td>7.500000</td>\n",
       "      <td>2.030424</td>\n",
       "      <td>5.39</td>\n",
       "      <td>6.250</td>\n",
       "      <td>7.11</td>\n",
       "      <td>7.98</td>\n",
       "      <td>12.74</td>\n",
       "    </tr>\n",
       "    <tr>\n",
       "      <th>IV</th>\n",
       "      <td>11.0</td>\n",
       "      <td>38.0</td>\n",
       "      <td>3.316625</td>\n",
       "      <td>33.0</td>\n",
       "      <td>35.5</td>\n",
       "      <td>38.0</td>\n",
       "      <td>40.5</td>\n",
       "      <td>43.0</td>\n",
       "      <td>11.0</td>\n",
       "      <td>9.0</td>\n",
       "      <td>...</td>\n",
       "      <td>8.0</td>\n",
       "      <td>19.0</td>\n",
       "      <td>11.0</td>\n",
       "      <td>7.500909</td>\n",
       "      <td>2.030579</td>\n",
       "      <td>5.25</td>\n",
       "      <td>6.170</td>\n",
       "      <td>7.04</td>\n",
       "      <td>8.19</td>\n",
       "      <td>12.50</td>\n",
       "    </tr>\n",
       "  </tbody>\n",
       "</table>\n",
       "<p>4 rows × 24 columns</p>\n",
       "</div>"
      ],
      "text/plain": [
       "           id                                                   x       ...  \\\n",
       "        count  mean       std   min   25%   50%   75%   max count mean  ...   \n",
       "dataset                                                                 ...   \n",
       "I        11.0   5.0  3.316625   0.0   2.5   5.0   7.5  10.0  11.0  9.0  ...   \n",
       "II       11.0  16.0  3.316625  11.0  13.5  16.0  18.5  21.0  11.0  9.0  ...   \n",
       "III      11.0  27.0  3.316625  22.0  24.5  27.0  29.5  32.0  11.0  9.0  ...   \n",
       "IV       11.0  38.0  3.316625  33.0  35.5  38.0  40.5  43.0  11.0  9.0  ...   \n",
       "\n",
       "                        y                                                      \n",
       "          75%   max count      mean       std   min    25%   50%   75%    max  \n",
       "dataset                                                                        \n",
       "I        11.5  14.0  11.0  7.500909  2.031568  4.26  6.315  7.58  8.57  10.84  \n",
       "II       11.5  14.0  11.0  7.500909  2.031657  3.10  6.695  8.14  8.95   9.26  \n",
       "III      11.5  14.0  11.0  7.500000  2.030424  5.39  6.250  7.11  7.98  12.74  \n",
       "IV        8.0  19.0  11.0  7.500909  2.030579  5.25  6.170  7.04  8.19  12.50  \n",
       "\n",
       "[4 rows x 24 columns]"
      ]
     },
     "execution_count": 5,
     "metadata": {},
     "output_type": "execute_result"
    }
   ],
   "source": [
    "df.groupby('dataset').describe()"
   ]
  },
  {
   "cell_type": "code",
   "execution_count": 6,
   "id": "1b032b3a",
   "metadata": {},
   "outputs": [],
   "source": [
    "mycols = list(itertools.product(['x','y'], ['50%', 'mean', 'max','std']))"
   ]
  },
  {
   "cell_type": "code",
   "execution_count": 7,
   "id": "273d0a4a",
   "metadata": {},
   "outputs": [
    {
     "data": {
      "text/html": [
       "<div>\n",
       "<style scoped>\n",
       "    .dataframe tbody tr th:only-of-type {\n",
       "        vertical-align: middle;\n",
       "    }\n",
       "\n",
       "    .dataframe tbody tr th {\n",
       "        vertical-align: top;\n",
       "    }\n",
       "\n",
       "    .dataframe thead tr th {\n",
       "        text-align: left;\n",
       "    }\n",
       "\n",
       "    .dataframe thead tr:last-of-type th {\n",
       "        text-align: right;\n",
       "    }\n",
       "</style>\n",
       "<table border=\"1\" class=\"dataframe\">\n",
       "  <thead>\n",
       "    <tr>\n",
       "      <th></th>\n",
       "      <th colspan=\"4\" halign=\"left\">x</th>\n",
       "      <th colspan=\"4\" halign=\"left\">y</th>\n",
       "    </tr>\n",
       "    <tr>\n",
       "      <th></th>\n",
       "      <th>50%</th>\n",
       "      <th>mean</th>\n",
       "      <th>max</th>\n",
       "      <th>std</th>\n",
       "      <th>50%</th>\n",
       "      <th>mean</th>\n",
       "      <th>max</th>\n",
       "      <th>std</th>\n",
       "    </tr>\n",
       "    <tr>\n",
       "      <th>dataset</th>\n",
       "      <th></th>\n",
       "      <th></th>\n",
       "      <th></th>\n",
       "      <th></th>\n",
       "      <th></th>\n",
       "      <th></th>\n",
       "      <th></th>\n",
       "      <th></th>\n",
       "    </tr>\n",
       "  </thead>\n",
       "  <tbody>\n",
       "    <tr>\n",
       "      <th>I</th>\n",
       "      <td>9.0</td>\n",
       "      <td>9.0</td>\n",
       "      <td>14.0</td>\n",
       "      <td>3.316625</td>\n",
       "      <td>7.58</td>\n",
       "      <td>7.500909</td>\n",
       "      <td>10.84</td>\n",
       "      <td>2.031568</td>\n",
       "    </tr>\n",
       "    <tr>\n",
       "      <th>II</th>\n",
       "      <td>9.0</td>\n",
       "      <td>9.0</td>\n",
       "      <td>14.0</td>\n",
       "      <td>3.316625</td>\n",
       "      <td>8.14</td>\n",
       "      <td>7.500909</td>\n",
       "      <td>9.26</td>\n",
       "      <td>2.031657</td>\n",
       "    </tr>\n",
       "    <tr>\n",
       "      <th>III</th>\n",
       "      <td>9.0</td>\n",
       "      <td>9.0</td>\n",
       "      <td>14.0</td>\n",
       "      <td>3.316625</td>\n",
       "      <td>7.11</td>\n",
       "      <td>7.500000</td>\n",
       "      <td>12.74</td>\n",
       "      <td>2.030424</td>\n",
       "    </tr>\n",
       "    <tr>\n",
       "      <th>IV</th>\n",
       "      <td>8.0</td>\n",
       "      <td>9.0</td>\n",
       "      <td>19.0</td>\n",
       "      <td>3.316625</td>\n",
       "      <td>7.04</td>\n",
       "      <td>7.500909</td>\n",
       "      <td>12.50</td>\n",
       "      <td>2.030579</td>\n",
       "    </tr>\n",
       "  </tbody>\n",
       "</table>\n",
       "</div>"
      ],
      "text/plain": [
       "           x                          y                           \n",
       "         50% mean   max       std   50%      mean    max       std\n",
       "dataset                                                           \n",
       "I        9.0  9.0  14.0  3.316625  7.58  7.500909  10.84  2.031568\n",
       "II       9.0  9.0  14.0  3.316625  8.14  7.500909   9.26  2.031657\n",
       "III      9.0  9.0  14.0  3.316625  7.11  7.500000  12.74  2.030424\n",
       "IV       8.0  9.0  19.0  3.316625  7.04  7.500909  12.50  2.030579"
      ]
     },
     "execution_count": 7,
     "metadata": {},
     "output_type": "execute_result"
    }
   ],
   "source": [
    "df.groupby(\"dataset\").describe()[mycols]"
   ]
  },
  {
   "cell_type": "code",
   "execution_count": 8,
   "id": "e236c85b",
   "metadata": {},
   "outputs": [
    {
     "name": "stderr",
     "output_type": "stream",
     "text": [
      "/usr/local/anaconda3/lib/python3.10/site-packages/seaborn/axisgrid.py:118: UserWarning: The figure layout has changed to tight\n",
      "  self._figure.tight_layout(*args, **kwargs)\n"
     ]
    },
    {
     "data": {
      "text/plain": [
       "<seaborn.axisgrid.FacetGrid at 0x7fa9992ca020>"
      ]
     },
     "execution_count": 8,
     "metadata": {},
     "output_type": "execute_result"
    },
    {
     "data": {
      "image/png": "[encoded data removed]",
      "text/plain": [
       "<Figure size 2000x500 with 4 Axes>"
      ]
     },
     "metadata": {},
     "output_type": "display_data"
    }
   ],
   "source": [
    "sns.relplot(x='x', y='y',col='dataset', data=df)"
   ]
  },
  {
   "cell_type": "code",
   "execution_count": null,
   "id": "7ae06e5f",
   "metadata": {},
   "outputs": [],
   "source": []
  },
  {
   "cell_type": "markdown",
   "id": "b1c6b579",
   "metadata": {},
   "source": [
    "<b> Why do we visualize our data?</b>:\n",
    "- Look at distribution and spread:\n",
    "    - boxplots (univariate)\n",
    "    - histograms (univariate): gap in information means there is likely an outlier\n",
    "    - scatter plots\n",
    "* These can show us outliers\n",
    "\n",
    "<br>\n",
    "\n",
    "- Descriptive statistics do not tell the whole story\n",
    "    - all the same stats for each feature (mean, median, max, min, etc)\n",
    "    - but the data is all different\n",
    "    - this is why we must visualize"
   ]
  },
  {
   "cell_type": "markdown",
   "id": "9a00c4e1",
   "metadata": {},
   "source": [
    "<b>Ascombe's Quartet</b>: specific instance that is indicative of the fact that descriptive stats do not tell the enture picture\n",
    "- 4 different datasets in this dataframe\n",
    "- The measures of central tendancy as well as min/max don't identify the shape our any outliers\n",
    "- The linear model for each quartet dataset has almost the exact same slope and intercept\n",
    "- The visualization makes the general trends of the data, as well as the presence of outliers, crystal clear"
   ]
  },
  {
   "cell_type": "markdown",
   "id": "f74414ef",
   "metadata": {},
   "source": [
    "<b> Let's take a look at this again</b>"
   ]
  },
  {
   "cell_type": "code",
   "execution_count": 9,
   "id": "b0777bd2",
   "metadata": {},
   "outputs": [],
   "source": [
    "#call the url we are wanting to use\n",
    "url = \"https://gist.githubusercontent.com/ryanorsinger/6218f5731f3df7cb4771ff3879fdeaa3/raw/88cb6bed276e2236c33df011bd753b6c73832c30/quartet.csv\"\n",
    "\n",
    "#read in that csv using pandas\n",
    "df = pd.read_csv(url)"
   ]
  },
  {
   "cell_type": "code",
   "execution_count": 10,
   "id": "a903a731",
   "metadata": {},
   "outputs": [
    {
     "data": {
      "text/html": [
       "<div>\n",
       "<style scoped>\n",
       "    .dataframe tbody tr th:only-of-type {\n",
       "        vertical-align: middle;\n",
       "    }\n",
       "\n",
       "    .dataframe tbody tr th {\n",
       "        vertical-align: top;\n",
       "    }\n",
       "\n",
       "    .dataframe thead th {\n",
       "        text-align: right;\n",
       "    }\n",
       "</style>\n",
       "<table border=\"1\" class=\"dataframe\">\n",
       "  <thead>\n",
       "    <tr style=\"text-align: right;\">\n",
       "      <th></th>\n",
       "      <th>id</th>\n",
       "      <th>dataset</th>\n",
       "      <th>x</th>\n",
       "      <th>y</th>\n",
       "    </tr>\n",
       "  </thead>\n",
       "  <tbody>\n",
       "    <tr>\n",
       "      <th>1</th>\n",
       "      <td>1</td>\n",
       "      <td>I</td>\n",
       "      <td>8.0</td>\n",
       "      <td>6.95</td>\n",
       "    </tr>\n",
       "    <tr>\n",
       "      <th>25</th>\n",
       "      <td>25</td>\n",
       "      <td>III</td>\n",
       "      <td>9.0</td>\n",
       "      <td>7.11</td>\n",
       "    </tr>\n",
       "    <tr>\n",
       "      <th>15</th>\n",
       "      <td>15</td>\n",
       "      <td>II</td>\n",
       "      <td>11.0</td>\n",
       "      <td>9.26</td>\n",
       "    </tr>\n",
       "  </tbody>\n",
       "</table>\n",
       "</div>"
      ],
      "text/plain": [
       "    id dataset     x     y\n",
       "1    1       I   8.0  6.95\n",
       "25  25     III   9.0  7.11\n",
       "15  15      II  11.0  9.26"
      ]
     },
     "execution_count": 10,
     "metadata": {},
     "output_type": "execute_result"
    }
   ],
   "source": [
    "#take a look at the data\n",
    "df.sample(3)"
   ]
  },
  {
   "cell_type": "code",
   "execution_count": 11,
   "id": "2f63f12d",
   "metadata": {},
   "outputs": [
    {
     "name": "stdout",
     "output_type": "stream",
     "text": [
      "<class 'pandas.core.frame.DataFrame'>\n",
      "RangeIndex: 44 entries, 0 to 43\n",
      "Data columns (total 4 columns):\n",
      " #   Column   Non-Null Count  Dtype  \n",
      "---  ------   --------------  -----  \n",
      " 0   id       44 non-null     int64  \n",
      " 1   dataset  44 non-null     object \n",
      " 2   x        44 non-null     float64\n",
      " 3   y        44 non-null     float64\n",
      "dtypes: float64(2), int64(1), object(1)\n",
      "memory usage: 1.5+ KB\n"
     ]
    }
   ],
   "source": [
    "df.info()"
   ]
  },
  {
   "cell_type": "code",
   "execution_count": 12,
   "id": "4102033b",
   "metadata": {},
   "outputs": [
    {
     "data": {
      "text/html": [
       "<div>\n",
       "<style scoped>\n",
       "    .dataframe tbody tr th:only-of-type {\n",
       "        vertical-align: middle;\n",
       "    }\n",
       "\n",
       "    .dataframe tbody tr th {\n",
       "        vertical-align: top;\n",
       "    }\n",
       "\n",
       "    .dataframe thead th {\n",
       "        text-align: right;\n",
       "    }\n",
       "</style>\n",
       "<table border=\"1\" class=\"dataframe\">\n",
       "  <thead>\n",
       "    <tr style=\"text-align: right;\">\n",
       "      <th></th>\n",
       "      <th>count</th>\n",
       "      <th>mean</th>\n",
       "      <th>std</th>\n",
       "      <th>min</th>\n",
       "      <th>25%</th>\n",
       "      <th>50%</th>\n",
       "      <th>75%</th>\n",
       "      <th>max</th>\n",
       "    </tr>\n",
       "  </thead>\n",
       "  <tbody>\n",
       "    <tr>\n",
       "      <th>id</th>\n",
       "      <td>44.0</td>\n",
       "      <td>21.500000</td>\n",
       "      <td>12.845233</td>\n",
       "      <td>0.0</td>\n",
       "      <td>10.7500</td>\n",
       "      <td>21.50</td>\n",
       "      <td>32.2500</td>\n",
       "      <td>43.00</td>\n",
       "    </tr>\n",
       "    <tr>\n",
       "      <th>x</th>\n",
       "      <td>44.0</td>\n",
       "      <td>9.000000</td>\n",
       "      <td>3.198837</td>\n",
       "      <td>4.0</td>\n",
       "      <td>7.0000</td>\n",
       "      <td>8.00</td>\n",
       "      <td>11.0000</td>\n",
       "      <td>19.00</td>\n",
       "    </tr>\n",
       "    <tr>\n",
       "      <th>y</th>\n",
       "      <td>44.0</td>\n",
       "      <td>7.500682</td>\n",
       "      <td>1.958925</td>\n",
       "      <td>3.1</td>\n",
       "      <td>6.1175</td>\n",
       "      <td>7.52</td>\n",
       "      <td>8.7475</td>\n",
       "      <td>12.74</td>\n",
       "    </tr>\n",
       "  </tbody>\n",
       "</table>\n",
       "</div>"
      ],
      "text/plain": [
       "    count       mean        std  min      25%    50%      75%    max\n",
       "id   44.0  21.500000  12.845233  0.0  10.7500  21.50  32.2500  43.00\n",
       "x    44.0   9.000000   3.198837  4.0   7.0000   8.00  11.0000  19.00\n",
       "y    44.0   7.500682   1.958925  3.1   6.1175   7.52   8.7475  12.74"
      ]
     },
     "execution_count": 12,
     "metadata": {},
     "output_type": "execute_result"
    }
   ],
   "source": [
    "df.describe().T"
   ]
  },
  {
   "cell_type": "markdown",
   "id": "87682fd9",
   "metadata": {},
   "source": [
    "<b>Note:</b>\n",
    "- We can see that there are layers to this dataframe.\n",
    "- Let's consider grouping by dataset (since there are 4 separate datasets)"
   ]
  },
  {
   "cell_type": "code",
   "execution_count": 13,
   "id": "32be8358",
   "metadata": {},
   "outputs": [
    {
     "data": {
      "text/html": [
       "<div>\n",
       "<style scoped>\n",
       "    .dataframe tbody tr th:only-of-type {\n",
       "        vertical-align: middle;\n",
       "    }\n",
       "\n",
       "    .dataframe tbody tr th {\n",
       "        vertical-align: top;\n",
       "    }\n",
       "\n",
       "    .dataframe thead tr th {\n",
       "        text-align: left;\n",
       "    }\n",
       "\n",
       "    .dataframe thead tr:last-of-type th {\n",
       "        text-align: right;\n",
       "    }\n",
       "</style>\n",
       "<table border=\"1\" class=\"dataframe\">\n",
       "  <thead>\n",
       "    <tr>\n",
       "      <th></th>\n",
       "      <th colspan=\"8\" halign=\"left\">id</th>\n",
       "      <th colspan=\"5\" halign=\"left\">x</th>\n",
       "      <th colspan=\"8\" halign=\"left\">y</th>\n",
       "    </tr>\n",
       "    <tr>\n",
       "      <th></th>\n",
       "      <th>count</th>\n",
       "      <th>mean</th>\n",
       "      <th>std</th>\n",
       "      <th>min</th>\n",
       "      <th>25%</th>\n",
       "      <th>50%</th>\n",
       "      <th>75%</th>\n",
       "      <th>max</th>\n",
       "      <th>count</th>\n",
       "      <th>mean</th>\n",
       "      <th>...</th>\n",
       "      <th>75%</th>\n",
       "      <th>max</th>\n",
       "      <th>count</th>\n",
       "      <th>mean</th>\n",
       "      <th>std</th>\n",
       "      <th>min</th>\n",
       "      <th>25%</th>\n",
       "      <th>50%</th>\n",
       "      <th>75%</th>\n",
       "      <th>max</th>\n",
       "    </tr>\n",
       "    <tr>\n",
       "      <th>dataset</th>\n",
       "      <th></th>\n",
       "      <th></th>\n",
       "      <th></th>\n",
       "      <th></th>\n",
       "      <th></th>\n",
       "      <th></th>\n",
       "      <th></th>\n",
       "      <th></th>\n",
       "      <th></th>\n",
       "      <th></th>\n",
       "      <th></th>\n",
       "      <th></th>\n",
       "      <th></th>\n",
       "      <th></th>\n",
       "      <th></th>\n",
       "      <th></th>\n",
       "      <th></th>\n",
       "      <th></th>\n",
       "      <th></th>\n",
       "      <th></th>\n",
       "      <th></th>\n",
       "    </tr>\n",
       "  </thead>\n",
       "  <tbody>\n",
       "    <tr>\n",
       "      <th>I</th>\n",
       "      <td>11.0</td>\n",
       "      <td>5.0</td>\n",
       "      <td>3.316625</td>\n",
       "      <td>0.0</td>\n",
       "      <td>2.5</td>\n",
       "      <td>5.0</td>\n",
       "      <td>7.5</td>\n",
       "      <td>10.0</td>\n",
       "      <td>11.0</td>\n",
       "      <td>9.0</td>\n",
       "      <td>...</td>\n",
       "      <td>11.5</td>\n",
       "      <td>14.0</td>\n",
       "      <td>11.0</td>\n",
       "      <td>7.500909</td>\n",
       "      <td>2.031568</td>\n",
       "      <td>4.26</td>\n",
       "      <td>6.315</td>\n",
       "      <td>7.58</td>\n",
       "      <td>8.57</td>\n",
       "      <td>10.84</td>\n",
       "    </tr>\n",
       "    <tr>\n",
       "      <th>II</th>\n",
       "      <td>11.0</td>\n",
       "      <td>16.0</td>\n",
       "      <td>3.316625</td>\n",
       "      <td>11.0</td>\n",
       "      <td>13.5</td>\n",
       "      <td>16.0</td>\n",
       "      <td>18.5</td>\n",
       "      <td>21.0</td>\n",
       "      <td>11.0</td>\n",
       "      <td>9.0</td>\n",
       "      <td>...</td>\n",
       "      <td>11.5</td>\n",
       "      <td>14.0</td>\n",
       "      <td>11.0</td>\n",
       "      <td>7.500909</td>\n",
       "      <td>2.031657</td>\n",
       "      <td>3.10</td>\n",
       "      <td>6.695</td>\n",
       "      <td>8.14</td>\n",
       "      <td>8.95</td>\n",
       "      <td>9.26</td>\n",
       "    </tr>\n",
       "    <tr>\n",
       "      <th>III</th>\n",
       "      <td>11.0</td>\n",
       "      <td>27.0</td>\n",
       "      <td>3.316625</td>\n",
       "      <td>22.0</td>\n",
       "      <td>24.5</td>\n",
       "      <td>27.0</td>\n",
       "      <td>29.5</td>\n",
       "      <td>32.0</td>\n",
       "      <td>11.0</td>\n",
       "      <td>9.0</td>\n",
       "      <td>...</td>\n",
       "      <td>11.5</td>\n",
       "      <td>14.0</td>\n",
       "      <td>11.0</td>\n",
       "      <td>7.500000</td>\n",
       "      <td>2.030424</td>\n",
       "      <td>5.39</td>\n",
       "      <td>6.250</td>\n",
       "      <td>7.11</td>\n",
       "      <td>7.98</td>\n",
       "      <td>12.74</td>\n",
       "    </tr>\n",
       "    <tr>\n",
       "      <th>IV</th>\n",
       "      <td>11.0</td>\n",
       "      <td>38.0</td>\n",
       "      <td>3.316625</td>\n",
       "      <td>33.0</td>\n",
       "      <td>35.5</td>\n",
       "      <td>38.0</td>\n",
       "      <td>40.5</td>\n",
       "      <td>43.0</td>\n",
       "      <td>11.0</td>\n",
       "      <td>9.0</td>\n",
       "      <td>...</td>\n",
       "      <td>8.0</td>\n",
       "      <td>19.0</td>\n",
       "      <td>11.0</td>\n",
       "      <td>7.500909</td>\n",
       "      <td>2.030579</td>\n",
       "      <td>5.25</td>\n",
       "      <td>6.170</td>\n",
       "      <td>7.04</td>\n",
       "      <td>8.19</td>\n",
       "      <td>12.50</td>\n",
       "    </tr>\n",
       "  </tbody>\n",
       "</table>\n",
       "<p>4 rows × 24 columns</p>\n",
       "</div>"
      ],
      "text/plain": [
       "           id                                                   x       ...  \\\n",
       "        count  mean       std   min   25%   50%   75%   max count mean  ...   \n",
       "dataset                                                                 ...   \n",
       "I        11.0   5.0  3.316625   0.0   2.5   5.0   7.5  10.0  11.0  9.0  ...   \n",
       "II       11.0  16.0  3.316625  11.0  13.5  16.0  18.5  21.0  11.0  9.0  ...   \n",
       "III      11.0  27.0  3.316625  22.0  24.5  27.0  29.5  32.0  11.0  9.0  ...   \n",
       "IV       11.0  38.0  3.316625  33.0  35.5  38.0  40.5  43.0  11.0  9.0  ...   \n",
       "\n",
       "                        y                                                      \n",
       "          75%   max count      mean       std   min    25%   50%   75%    max  \n",
       "dataset                                                                        \n",
       "I        11.5  14.0  11.0  7.500909  2.031568  4.26  6.315  7.58  8.57  10.84  \n",
       "II       11.5  14.0  11.0  7.500909  2.031657  3.10  6.695  8.14  8.95   9.26  \n",
       "III      11.5  14.0  11.0  7.500000  2.030424  5.39  6.250  7.11  7.98  12.74  \n",
       "IV        8.0  19.0  11.0  7.500909  2.030579  5.25  6.170  7.04  8.19  12.50  \n",
       "\n",
       "[4 rows x 24 columns]"
      ]
     },
     "execution_count": 13,
     "metadata": {},
     "output_type": "execute_result"
    }
   ],
   "source": [
    "#get the stats broken into datasets\n",
    "df.groupby(\"dataset\").describe()"
   ]
  },
  {
   "cell_type": "code",
   "execution_count": 14,
   "id": "d6950f85",
   "metadata": {},
   "outputs": [],
   "source": [
    "#let's break this down a bit further using itertools\n",
    "#essentially, I want to see the median and mean of x and y only\n",
    "mycols = list(itertools.product(['x','y'], ['50%', 'mean', 'max', 'std']))"
   ]
  },
  {
   "cell_type": "code",
   "execution_count": 15,
   "id": "4994cc62",
   "metadata": {},
   "outputs": [
    {
     "data": {
      "text/html": [
       "<div>\n",
       "<style scoped>\n",
       "    .dataframe tbody tr th:only-of-type {\n",
       "        vertical-align: middle;\n",
       "    }\n",
       "\n",
       "    .dataframe tbody tr th {\n",
       "        vertical-align: top;\n",
       "    }\n",
       "\n",
       "    .dataframe thead tr th {\n",
       "        text-align: left;\n",
       "    }\n",
       "\n",
       "    .dataframe thead tr:last-of-type th {\n",
       "        text-align: right;\n",
       "    }\n",
       "</style>\n",
       "<table border=\"1\" class=\"dataframe\">\n",
       "  <thead>\n",
       "    <tr>\n",
       "      <th></th>\n",
       "      <th colspan=\"4\" halign=\"left\">x</th>\n",
       "      <th colspan=\"4\" halign=\"left\">y</th>\n",
       "    </tr>\n",
       "    <tr>\n",
       "      <th></th>\n",
       "      <th>50%</th>\n",
       "      <th>mean</th>\n",
       "      <th>max</th>\n",
       "      <th>std</th>\n",
       "      <th>50%</th>\n",
       "      <th>mean</th>\n",
       "      <th>max</th>\n",
       "      <th>std</th>\n",
       "    </tr>\n",
       "    <tr>\n",
       "      <th>dataset</th>\n",
       "      <th></th>\n",
       "      <th></th>\n",
       "      <th></th>\n",
       "      <th></th>\n",
       "      <th></th>\n",
       "      <th></th>\n",
       "      <th></th>\n",
       "      <th></th>\n",
       "    </tr>\n",
       "  </thead>\n",
       "  <tbody>\n",
       "    <tr>\n",
       "      <th>I</th>\n",
       "      <td>9.0</td>\n",
       "      <td>9.0</td>\n",
       "      <td>14.0</td>\n",
       "      <td>3.316625</td>\n",
       "      <td>7.58</td>\n",
       "      <td>7.500909</td>\n",
       "      <td>10.84</td>\n",
       "      <td>2.031568</td>\n",
       "    </tr>\n",
       "    <tr>\n",
       "      <th>II</th>\n",
       "      <td>9.0</td>\n",
       "      <td>9.0</td>\n",
       "      <td>14.0</td>\n",
       "      <td>3.316625</td>\n",
       "      <td>8.14</td>\n",
       "      <td>7.500909</td>\n",
       "      <td>9.26</td>\n",
       "      <td>2.031657</td>\n",
       "    </tr>\n",
       "    <tr>\n",
       "      <th>III</th>\n",
       "      <td>9.0</td>\n",
       "      <td>9.0</td>\n",
       "      <td>14.0</td>\n",
       "      <td>3.316625</td>\n",
       "      <td>7.11</td>\n",
       "      <td>7.500000</td>\n",
       "      <td>12.74</td>\n",
       "      <td>2.030424</td>\n",
       "    </tr>\n",
       "    <tr>\n",
       "      <th>IV</th>\n",
       "      <td>8.0</td>\n",
       "      <td>9.0</td>\n",
       "      <td>19.0</td>\n",
       "      <td>3.316625</td>\n",
       "      <td>7.04</td>\n",
       "      <td>7.500909</td>\n",
       "      <td>12.50</td>\n",
       "      <td>2.030579</td>\n",
       "    </tr>\n",
       "  </tbody>\n",
       "</table>\n",
       "</div>"
      ],
      "text/plain": [
       "           x                          y                           \n",
       "         50% mean   max       std   50%      mean    max       std\n",
       "dataset                                                           \n",
       "I        9.0  9.0  14.0  3.316625  7.58  7.500909  10.84  2.031568\n",
       "II       9.0  9.0  14.0  3.316625  8.14  7.500909   9.26  2.031657\n",
       "III      9.0  9.0  14.0  3.316625  7.11  7.500000  12.74  2.030424\n",
       "IV       8.0  9.0  19.0  3.316625  7.04  7.500909  12.50  2.030579"
      ]
     },
     "execution_count": 15,
     "metadata": {},
     "output_type": "execute_result"
    }
   ],
   "source": [
    "df.groupby(\"dataset\").describe()[mycols]"
   ]
  },
  {
   "cell_type": "markdown",
   "id": "67cc2940",
   "metadata": {},
   "source": [
    "<b>Statistically, it seems like those 4 datasets are the same or very similar. </b>\n",
    "<br>\n",
    "\n",
    "For X:\n",
    "\n",
    "- Mean datasets I, II, III and IV are all the same\n",
    "- Median of datasets I, II, and III are the same\n",
    "- All datasets have the same std\n",
    "- Datasets I, II, and III same max value\n",
    "<br>\n",
    "\n",
    "<b>but</b> there is more to the story if you visualize it!"
   ]
  },
  {
   "cell_type": "code",
   "execution_count": 16,
   "id": "fb71ed91",
   "metadata": {},
   "outputs": [
    {
     "name": "stderr",
     "output_type": "stream",
     "text": [
      "/usr/local/anaconda3/lib/python3.10/site-packages/seaborn/axisgrid.py:118: UserWarning: The figure layout has changed to tight\n",
      "  self._figure.tight_layout(*args, **kwargs)\n"
     ]
    },
    {
     "data": {
      "text/plain": [
       "<seaborn.axisgrid.FacetGrid at 0x7fa999509db0>"
      ]
     },
     "execution_count": 16,
     "metadata": {},
     "output_type": "execute_result"
    },
    {
     "data": {
      "image/png": "[encoded data removed]",
      "text/plain": [
       "<Figure size 2000x500 with 4 Axes>"
      ]
     },
     "metadata": {},
     "output_type": "display_data"
    }
   ],
   "source": [
    "sns.relplot(x='x', y='y', col='dataset', data=df)"
   ]
  },
  {
   "cell_type": "markdown",
   "id": "a9c64b47",
   "metadata": {},
   "source": [
    "<b>Once we visualize, we can see that the datasets are actually very different. Proving that visuals and stats should be used together to tell the entire story."
   ]
  },
  {
   "cell_type": "markdown",
   "id": "17a0546a",
   "metadata": {},
   "source": [
    "<hr style=\"border:1px solid black\">"
   ]
  },
  {
   "cell_type": "markdown",
   "id": "ebacc320",
   "metadata": {},
   "source": [
    "## Empirical Rule \n",
    "\n",
    "<i>aka: Three Sigma Rule and 68-95-99.7 Rule</i>"
   ]
  },
  {
   "cell_type": "markdown",
   "id": "4bc9864e",
   "metadata": {},
   "source": [
    "As is the case with most normal distribution (bell curves) the majority of the data falls in the middle of the curve. There are then tails to the bell curve that contain the remainder of the information. "
   ]
  },
  {
   "cell_type": "markdown",
   "id": "3ba55649",
   "metadata": {},
   "source": [
    "<b>This rule assumes that:</b>\n",
    "\n",
    "   - normal distribution has some qualities to find outliers\n",
    "   - Standard bell curve, to assess normality"
   ]
  },
  {
   "cell_type": "markdown",
   "id": "04030a25",
   "metadata": {},
   "source": [
    "<b>The rule asserts that:</b>\n",
    "\n",
    "   - 68% of the data falls within 1 standard deviation\n",
    "   - 95% of the data falls within 2 standard deviations\n",
    "   - 99.7% of the data falls within 3 standard deviations"
   ]
  },
  {
   "cell_type": "markdown",
   "id": "c68cd2a5",
   "metadata": {},
   "source": [
    "![](empirical_rule.png)"
   ]
  },
  {
   "cell_type": "markdown",
   "id": "02048382",
   "metadata": {},
   "source": [
    "<b>Additionally</b>:\n",
    "\n",
    "   - The rule is often used as a quick test of normality\n",
    "   - Is often erroneously applied to non-normally distributed data\n",
    "   - Can be an oversimplified approach"
   ]
  },
  {
   "cell_type": "markdown",
   "id": "e4712a9d",
   "metadata": {},
   "source": [
    "<b>Common Mistakes Made:</b>\n",
    "\n",
    "   - This rule drops everything outside of 2 standard deviations which highlights the danges of approaching outlier detection in this way."
   ]
  },
  {
   "cell_type": "markdown",
   "id": "2bc4e56d",
   "metadata": {},
   "source": [
    "Just as we would want to use descriptive stats <b>and</b> visualizations together to get the whole picture, we would likely want to use different algorithms to flag outliers. "
   ]
  },
  {
   "cell_type": "markdown",
   "id": "aebc1faf",
   "metadata": {},
   "source": [
    "<hr style=\"border:1px solid black\">"
   ]
  },
  {
   "cell_type": "markdown",
   "id": "ccc0dd88",
   "metadata": {},
   "source": [
    "## Using Z-Score for identifying outliers"
   ]
  },
  {
   "cell_type": "markdown",
   "id": "cd5fd45e",
   "metadata": {},
   "source": [
    "<b>Remember:</b>\n",
    "\n",
    "- ```np.random.normal``` generates numbers from a normal distribution with a specified mean and standard deviation\n",
    "\n",
    "- ```z-score```: a relationship between how far a point is away from the mean in a association with standard deviation as its denominator. It is a way to standardize data and compare a data point to the mean of the sample.\n",
    "    - Z = (value of sample - mean of sample)/ standard deviations of sample\n"
   ]
  },
  {
   "cell_type": "code",
   "execution_count": 17,
   "id": "7e7d0940",
   "metadata": {},
   "outputs": [
    {
     "data": {
      "text/plain": [
       "array([ 46.47525743, -13.83656974, 137.03595126, 129.98100198,\n",
       "         6.62555346,  81.85618323,  61.94165852,  14.02045214,\n",
       "        50.12969868,  56.96439323,  55.52169643,  61.97850285,\n",
       "        99.57652856,  76.46504089,  71.18335035,  59.06280302,\n",
       "        19.92479632,  46.53807249,  73.74391623,  40.09090916,\n",
       "        33.28981437,  55.34475043, 173.06418629,  29.16441431,\n",
       "        29.36154916,  98.64319821,  38.11472869,  56.52998703,\n",
       "       -23.10979334,  82.45921439,  44.51897299,  70.63726157,\n",
       "        95.57095048,  63.76097707,  64.94946833,  -3.4765142 ,\n",
       "       104.23559799,  40.4889961 , -49.73830861,  47.8380352 ,\n",
       "        88.42462435,  71.84842463,   7.83361579,  79.62647298,\n",
       "        56.0557304 ,  48.5429404 ,  77.07524893, 129.92142353,\n",
       "        29.88902638,  56.48887255,  50.40871094,  45.93080213,\n",
       "        92.65185059,  50.3770659 ,  34.79664314,  41.2933426 ,\n",
       "       -30.62873579,  32.01996586,  42.10140433,  68.92785592,\n",
       "        -3.66576555, -20.61637046,  11.31583042,  54.64629852,\n",
       "       109.65684269,  24.01708286,  43.04822084,  30.75535216,\n",
       "        70.650067  ,  25.96988819, -17.21695047, 118.9278339 ,\n",
       "        83.97050303,  22.39047121,  40.8008174 ,  53.81141406,\n",
       "        59.24002017,  26.99466224,  69.15968415,  19.52158624,\n",
       "        36.36208289,  11.79398504,  31.77088553,  50.61452861,\n",
       "        36.52941464,   0.53853041,  65.88560584,  33.46800892,\n",
       "        88.91950176,  24.36442021,  -0.7557647 ,   4.66155486,\n",
       "       122.66514146,  57.64029033,  85.96891532,  34.83448394,\n",
       "       -15.39404393,  60.47046059,  39.07945839,  11.87051806,\n",
       "       109.24881398,  24.14516706,  24.46698316, 112.24560738,\n",
       "        27.29327674, 187.33639597,  34.96769669,  74.26852819,\n",
       "        39.29570324,   8.99020464,  49.90825387,  44.6150387 ,\n",
       "        67.00650556,  87.7888128 ,  40.17652073,  70.18258257,\n",
       "       124.40041064,  28.55242768, -13.94167361, 115.99980594,\n",
       "        56.05524623,  65.57803971,  39.74212605,  25.05714574,\n",
       "       116.26577015,  34.74282364,  64.77367093,  97.424071  ,\n",
       "       119.57353974, 130.23624291, 119.89607284,  18.10998064,\n",
       "        77.08159114,   9.7575384 ,  64.30150625,  18.92594972,\n",
       "        29.82996114,  53.78825579,  70.82962592,  38.25652244,\n",
       "       101.13973589,  56.6672876 , -22.84727884,  62.22459415,\n",
       "        70.99776399,   1.32984786, 100.48612328,  27.99239738,\n",
       "        83.1595428 ,  27.45269832,  32.81454445,  96.08574778,\n",
       "        -3.38595747,  58.14712859,  22.43547163, 106.32888975,\n",
       "        96.19213546,  49.09351692,  39.49176345,  80.37182317,\n",
       "        42.27908513,  95.25112995, 109.72383225, -18.35359939,\n",
       "        83.75471656,  92.06496941,  -5.70478123,  93.0213889 ,\n",
       "        12.02385897,  25.35361907,  98.08101356, -25.98569593,\n",
       "        56.57303567,  67.20852712,  48.21606436,   6.255543  ,\n",
       "       102.4573932 ,  64.74417095,  -8.85986877,  39.58893324,\n",
       "        53.53782539,   7.2625326 ,  68.34807324, 150.79728693,\n",
       "       111.53206668,  14.21168686,  68.29788254, -11.1280706 ,\n",
       "        19.74269097,  44.18212082,  32.07188523,  32.09648982,\n",
       "        40.95485023,  35.94890327,  94.839383  ,  17.49817636,\n",
       "        92.28881964,  80.8038699 , -63.16617359, -38.4015737 ,\n",
       "        62.7581749 , -35.75132784,  11.64350736, 135.77554816,\n",
       "        43.73298577,  47.43363968,  98.56231905,  28.80219985,\n",
       "        84.96868864,  49.85018628,  82.97385003,  75.72187597,\n",
       "        30.8441946 ,  83.23932507,  73.84915217,  31.37136524,\n",
       "        33.72548349,  93.0946944 ,  85.27264265,  44.22425935,\n",
       "       165.07171076,  85.29112902,  25.83286875,  58.69574458,\n",
       "         0.84736894,  15.62840355,  99.69758197,  70.98081448,\n",
       "        67.01066028,  73.0776472 , 134.53208666,  79.08601315,\n",
       "        12.23206445,   3.86721096,  16.85331129,  52.25204058,\n",
       "        71.33464727,  73.77992591,  99.05329069,  16.17256253,\n",
       "        18.43097693,  20.68793781, -16.60512324,  85.16136167,\n",
       "       -15.69791041, -16.53364175,  62.20110492,  -0.30235336,\n",
       "        38.00500265,  17.4570975 ,  15.15601915,  39.93138816,\n",
       "        61.63541202,  25.16243142,  54.43539337,  30.92948492,\n",
       "         4.5637901 ,  82.82551928,  51.56067245, -38.07638124,\n",
       "        66.6209348 ,  27.73599056,  92.94684171, 161.37763482,\n",
       "        31.4759705 ,  94.24858652,  30.04293279,  72.36608281,\n",
       "        40.91514911,  89.0586758 ,  54.41214164, -20.88832151,\n",
       "        40.97587489,  23.25482303,   9.64141844, 128.77364122,\n",
       "        43.89363326,  30.78564551,  36.8283784 ,  38.36685791,\n",
       "        42.64661286,  34.01144846,  70.20443868,  47.65345327,\n",
       "        68.71680926,  12.73969739,  92.24276519,  19.03726432,\n",
       "        54.62561183, -23.27514265,  81.07638819,  36.09377683,\n",
       "        37.83921283,  65.43346573,   8.44163647,  50.03338792,\n",
       "        53.01373145,  72.80893082, 100.50371248, -35.76308766,\n",
       "        73.6573144 , -22.60220998,  64.86838193,  60.63401811,\n",
       "        88.72676679,  63.2444055 ,  57.53052736,  15.06441351,\n",
       "        91.99576161,  85.43777771,  25.00448881, 104.77902343,\n",
       "       123.66690433, 108.53458397,  39.88596936,  -2.50334235,\n",
       "        30.1056653 ,  35.38050045,  54.99436107,  69.18844959,\n",
       "        42.67836127, 101.96607733,  59.96948485, 112.09102362,\n",
       "       129.53912482,  43.74931135, 109.70622781,  26.97573867,\n",
       "        50.87873271, 111.80069463,  28.51055958,  47.0143845 ,\n",
       "       111.44168839,  56.68095209,  67.24889462,  95.53280361,\n",
       "        63.14513426,  38.90051944,  47.42204974,  55.03584546,\n",
       "        61.38034501,  41.37353134, 103.27478464,  33.07892461,\n",
       "        40.02133203,  28.16505379,  42.27463588,  43.15195949,\n",
       "        65.50873605,  94.56233181,  95.15318414,  63.39256396,\n",
       "        74.58675291,  93.78779242,  78.43976068,  42.33699188,\n",
       "         7.91188135, -16.52808509,  89.1209777 ,   6.11624125,\n",
       "        60.45042329,  46.11968372,  78.93331593, 110.28652171,\n",
       "        73.9533113 ,  70.99055566, 113.82613387,  47.04182283,\n",
       "        21.78501598,  87.37168755, -32.37485803,  61.89122127,\n",
       "        12.12269305,  78.41300612,  62.40241355, -22.18233399,\n",
       "        42.28594687,  58.61674725,   7.09549338,  41.25437225,\n",
       "        53.13619753, -31.38540331,  12.02998047,  60.3229874 ,\n",
       "       132.40373318,  32.60208407, -20.7852067 , 113.03895613,\n",
       "         3.59092902,  75.14761358,  93.43643627,  49.99601552,\n",
       "        46.23004438,  -4.73570994,  -1.077975  , -20.21772874,\n",
       "        62.49233494,  32.87477852, 104.01080661,  77.57503508,\n",
       "        92.93622927,  36.41317843,  51.59661944,  62.32361282,\n",
       "       131.1633187 ,  52.89430202,  36.02265089,  92.74271605,\n",
       "         0.984536  ,  94.06378852, 106.04588887,  64.71667672,\n",
       "        55.14323542,  81.5856257 ,  15.65590823,  40.11340549,\n",
       "        36.07347339, -18.65005869,  30.6755583 ,  51.98217499,\n",
       "       -56.92482216,  38.4249296 ,  11.80467335,   4.62610383,\n",
       "        89.33352283, 103.9183154 ,  63.89686602,  21.27737863,\n",
       "        -8.87221069,  62.67071252,  23.83866044, -40.93178723,\n",
       "        30.68805366,  23.07877975,  94.35419581,  15.02563084,\n",
       "        79.70435827,  17.90441928,  58.62825621,  40.95804964,\n",
       "       138.98911939, -49.69711923,  23.20942379, 126.30055694,\n",
       "        -1.45947499,  99.23986308,  19.6232507 ,  91.17327444,\n",
       "        30.72977897,   4.15518838, 126.8163074 , 148.87659218,\n",
       "        69.42732741,  -5.61856839,  19.37532763, 138.86368248,\n",
       "        61.65550913,  11.23848721,  72.25767327,  18.0284141 ,\n",
       "        10.91313512,  64.48009899,  98.76220045,  55.22505931,\n",
       "        -4.23881167, -10.82144595,  -7.46412405,  30.74700976,\n",
       "       -40.27612852,  27.35497322,  48.73063425,  23.67292516,\n",
       "        31.76783785,  16.17915194,  72.28009994,  98.06024122,\n",
       "        44.59481262,  50.09526007,  33.49588145,  57.79783127,\n",
       "        40.42718246,  77.37278603,  53.89503799, -33.10206797,\n",
       "        63.36681214,  40.13496414,  41.17952729,  34.71009092,\n",
       "        42.75732122,  70.21354567,  53.04677158, 109.34553286,\n",
       "        57.95666588,  75.67849085,  97.12568382,  47.2689755 ,\n",
       "        81.65374838,  20.26532287,  -3.19681141,  56.78256799,\n",
       "        40.25225415,  13.33145234,  19.84219592,  53.99831883,\n",
       "        -9.46137574,  18.40222766,  93.19464219,  43.61343055,\n",
       "        32.42124619,  80.44661223, -15.11410176,  69.4444321 ,\n",
       "         9.5457798 ,  39.07264784,  34.29744996,  58.77496031,\n",
       "       118.39157139, -11.85403064,  13.54562494,  26.77437501,\n",
       "       128.30158984,  17.6040052 ,  28.29026891,  20.9191388 ,\n",
       "       -43.73933568, -23.60585289, -39.79110296,  71.65774051,\n",
       "         7.33789937,   8.37849712,  32.91517064,   3.75101963,\n",
       "        80.37323783, -16.38776677,  37.14876626,  47.1665588 ,\n",
       "        85.46903755, 132.06350098,  76.18419355, 104.16847774,\n",
       "       -21.57879216,  35.98407369,  40.57600137,  37.66440892,\n",
       "        34.29541584,  85.19846809,   8.86811216,  26.37056562,\n",
       "        19.92393107,  60.55142819, -55.25592225,  20.2065495 ,\n",
       "        65.29647507,  65.79360014,  50.12749101,  21.19284446,\n",
       "         0.95566856,   5.81848855,  61.83761238,  72.33370798,\n",
       "         6.85823624, -23.6586523 , 105.53254018,  94.33915026,\n",
       "        29.88489507,  -8.75941322,  34.48794956,  66.66588029,\n",
       "        -2.12884824, -20.19431069,  80.10530047,  39.54930257,\n",
       "       114.18988648,  39.11269551,  43.59730841,  71.37206002,\n",
       "       -21.09002894,  -2.18294166,  10.41291512,  91.66810716,\n",
       "        68.71417886,  24.18735547,  17.59087297, -30.06266217,\n",
       "        70.98380331,  21.58900914,  64.75755585,   9.92127744,\n",
       "       114.44615992,  76.22815282,   8.9716442 ,  28.91586424,\n",
       "       109.1053097 ,  59.77143118, -11.57128442,   5.61925989,\n",
       "        52.1523735 ,  57.05246882,  84.91055999, -10.61821573,\n",
       "        10.20202658,  26.6551162 ,  17.01389966,   3.2351485 ,\n",
       "        34.15785078,  17.23106782,  20.12427496,  71.39381686,\n",
       "        50.79099431,  52.01746765,  84.30866812,  93.27883126,\n",
       "        31.63901212,  26.62588121, 109.88483726,  88.29643764,\n",
       "        50.40208766,  20.33430663,  41.30981367,  20.2172964 ,\n",
       "        71.65922804,  58.81863484,  69.70330936,  31.45535195,\n",
       "        84.43603807,  33.14025641,  71.2896468 ,  31.67497698,\n",
       "        32.00691096, 120.53666516,  46.28712365, -22.90455263,\n",
       "         1.94400526, 102.53901504,  15.05426758,  18.53994241,\n",
       "        27.05230426,  55.85795623,  74.77964816,  65.72322069,\n",
       "        79.71815091,  21.70520932,   6.29359433,  50.11665645,\n",
       "        75.92935492,  68.65326816,   6.54262139,   3.18372107,\n",
       "        -1.75884173,  54.25521779,  89.69165892,  36.02981765,\n",
       "        63.07491914,  26.99487647, 129.55527355,  88.46137154,\n",
       "        47.77066948, 122.69074347, -16.03554944, -53.93886508,\n",
       "        22.71571723, 101.12602187,  98.38568211,  28.17370737,\n",
       "       120.41417916,  89.24403447,  80.16526135, 100.06435632,\n",
       "        68.09653075, 118.1110307 ,  49.93449608,  39.87781704,\n",
       "        47.45120961,  28.11075834, -67.03324387,  24.13445977,\n",
       "       128.52498995, 146.6734642 ,  94.93553835,  48.21529227,\n",
       "        26.05716443,  84.74064278, -25.35036586,  19.69240829,\n",
       "        75.07068039,  59.20945249,  46.39090969,  75.03818456,\n",
       "        69.93268315, -16.37403897, 104.69455433,  22.61319674,\n",
       "        26.91104328,  45.06952701,  99.6114983 ,  43.50690931,\n",
       "        71.09105822,  62.34542085, -38.71966279,  71.93413861,\n",
       "        79.3002373 , 106.1052539 ,  40.68054606, 156.51212445,\n",
       "       103.649828  ,  -7.39426593, -23.22580239, -16.68121702,\n",
       "        87.75042565,  99.52920441,  37.66370962,  74.40675205,\n",
       "        33.76916349,  96.30157823,   6.01065749, -59.49343216,\n",
       "        -8.72664316,  57.59784961,  52.29892696,  70.05917829,\n",
       "        97.96482292,  14.97254634,  65.31307948,  20.58947199,\n",
       "         8.00347128, 123.6899954 , -24.64833053,  72.27559085,\n",
       "        48.82332695,  45.99487737, 118.70182343,  86.15132795,\n",
       "        95.24378127,  94.2964146 ,  43.60465903, 151.14714004,\n",
       "       143.36690563,  42.13304429,  24.94729611,  -3.66674769,\n",
       "        73.05660513,  56.31758115,  48.02281606,  56.42524089,\n",
       "        91.77539607,  54.72845995,  34.49501331,  94.19160102,\n",
       "        30.93244411,  68.16257255,  67.8094524 ,  45.24673059,\n",
       "        27.02131608,  45.31662167,  93.1857187 ,  75.28183178,\n",
       "        57.992361  ,  49.29526131,  52.82873576,  -8.46154708,\n",
       "        82.00545895,  64.54572684,  17.52073491,  16.70896755,\n",
       "       123.71443985,  72.4256685 ,  67.85928673, 103.68970746,\n",
       "        34.08321886, 104.02631646, 117.93723029,  74.98395244,\n",
       "        -5.85032365, 103.60788277,  -1.47721689,  12.02110632,\n",
       "        37.13552541,  51.81557721, -27.40161641,  31.06422974,\n",
       "        67.03360829,  63.45232823, -38.56839246, 109.26706697,\n",
       "       101.84707702,  76.92530998,  24.97985182,  58.67107061,\n",
       "        57.14340715,  33.57492223, 117.85875004,  11.22583007,\n",
       "        34.63851367,  11.12246781, 123.37706614,  97.20853224,\n",
       "        -3.21963811,  23.3722803 ,   5.49641437,  73.59013673,\n",
       "        47.64461594,  40.28379832,  28.0152567 , -29.09034413,\n",
       "        98.28441699,  94.21832907, 107.21787637, 114.69689027,\n",
       "       -17.82219496,  64.36368016,  90.48008679,  11.92556005,\n",
       "        45.54021362,  39.10659684,  44.78465159, 126.73628843,\n",
       "        32.26966472,  86.29245941,  50.86164636,  69.28387014,\n",
       "        87.48083896,  99.61351014,  28.8784968 ,  23.47854861,\n",
       "       -44.33006455,  39.37769526,  61.47154903,  40.82798984,\n",
       "         5.86594784,  39.28015249,  82.08197106,  -9.80382708,\n",
       "       110.65831853,  53.64822244, -25.37583739,  49.0812927 ,\n",
       "       -50.2832964 ,  40.16658206,  49.1397022 ,  68.33313817,\n",
       "        60.26083137,  59.66906079,  97.17296068,  95.87695828,\n",
       "        75.18266376, 140.51175646,  38.7972924 ,  35.55760986,\n",
       "        30.24903543,  44.45601867,  92.79177654,  64.74142096,\n",
       "       113.53904671,  38.58523925, 100.69978202,  40.07738014,\n",
       "        59.06115785,  18.56642695,  -3.90696917, -22.24868798,\n",
       "       104.86103791,  -5.06656316,  70.71656903,  32.95760968,\n",
       "        20.46865831,  66.89591811,  72.12032028,  64.82053424,\n",
       "       -13.91410419,  81.05627886,  86.17603593,  25.25177115,\n",
       "        90.49846246,  67.16685848, 104.50838807,  37.49998159,\n",
       "       102.4170474 ,  70.32867342,  41.14106753, -38.22127895,\n",
       "        55.30541918, 107.20099647,  54.89737293,  71.14068499,\n",
       "         5.32941073,  12.13266564,  35.53277984,  13.52437418,\n",
       "        99.32697452,  54.12877529, 103.9988935 ,  46.2624248 ,\n",
       "        68.51572771,  32.04976786,  40.13175861,  43.31495798,\n",
       "        64.22009061,  22.47100901, 107.23030329, 102.89404038,\n",
       "        40.38507604, 113.90447272,  36.36799922,  26.60189596,\n",
       "        91.18837394, -11.2865493 ,  16.40174779,  54.92645663,\n",
       "        53.72787346, 108.69790414,  32.4822224 ,  66.08456186,\n",
       "       -56.31754684, 139.53412691,  18.11728824,  36.28470357,\n",
       "        64.16550087,  46.74268789,  23.23931187,  68.54652133,\n",
       "        86.27627823, 101.87291102,  79.11199258, 123.03218148,\n",
       "        15.2621053 ,  68.76393997,  63.69713625,  98.49703746,\n",
       "        59.63042812,   5.44195443,  16.94635746,  74.18330839,\n",
       "        28.70907931,  36.29844941,  97.81318083,  53.29860328,\n",
       "        36.70195614,  82.38959554,  81.12225112,  56.75270654,\n",
       "        56.40374242,  84.28243711,   0.64147548,  82.34712832,\n",
       "        99.08531744, 102.63412054,  78.93940402,  32.24207273,\n",
       "        79.80692117, 135.04424696,  -6.52561647,  83.64331168,\n",
       "        58.08805602,  68.0965505 ,  54.51056017,   3.49351048,\n",
       "         5.67202183,  64.72001507,  40.18972702,  29.68693307,\n",
       "        13.87116925,  10.76212581,  27.06152121,  22.67626778,\n",
       "        -5.74574437,  44.9906872 ,   1.26176784, 103.46951325,\n",
       "       -28.7521172 ,  79.27245552,  26.37775858,  70.03500564,\n",
       "       124.87085969, 165.97933844,  33.21350332,  84.7663234 ,\n",
       "        64.9096918 ,  81.88776339,  35.67315983,  -0.71950643,\n",
       "        63.71170758,  -4.7549014 ,  71.78547128, -44.38160244,\n",
       "        49.26184409,  14.87283547,  24.49152563, 147.1454609 ,\n",
       "        -6.56664126, -24.6411981 ,  59.61687865,  -0.8121025 ,\n",
       "        97.60594296,  59.74697855,  92.62533463,   4.26683435,\n",
       "        38.11401798,  16.7045852 ,  78.28588197, 125.9324103 ])"
      ]
     },
     "execution_count": 17,
     "metadata": {},
     "output_type": "execute_result"
    }
   ],
   "source": [
    "#create an array of random numbers with normal distribution \n",
    "x = np.random.normal(50, 40, size=1000)\n",
    "x"
   ]
  },
  {
   "cell_type": "code",
   "execution_count": 18,
   "id": "b449b381",
   "metadata": {},
   "outputs": [
    {
     "data": {
      "text/plain": [
       "0     -0.088960\n",
       "1     -1.543574\n",
       "2      2.095204\n",
       "3      1.925051\n",
       "4     -1.050064\n",
       "         ...   \n",
       "995   -1.106952\n",
       "996   -0.290618\n",
       "997   -0.806975\n",
       "998    0.678256\n",
       "999    1.827406\n",
       "Length: 1000, dtype: float64"
      ]
     },
     "execution_count": 18,
     "metadata": {},
     "output_type": "execute_result"
    }
   ],
   "source": [
    "# Calculate the z-score for each item in the array\n",
    "zscores = pd.Series((x - x.mean()) / x.std())\n",
    "#take a look\n",
    "zscores"
   ]
  },
  {
   "cell_type": "code",
   "execution_count": 19,
   "id": "922e572b",
   "metadata": {},
   "outputs": [
    {
     "data": {
      "text/plain": [
       "array([137.03595126, 173.06418629, -49.73830861, 187.33639597,\n",
       "       150.79728693, -63.16617359, -38.4015737 , -35.75132784,\n",
       "       135.77554816, 165.07171076, 134.53208666, -38.07638124,\n",
       "       161.37763482, -35.76308766, -56.92482216, -40.93178723,\n",
       "       138.98911939, -49.69711923, 148.87659218, 138.86368248,\n",
       "       -40.27612852, -33.10206797, -43.73933568, -39.79110296,\n",
       "       -55.25592225, -53.93886508, -67.03324387, 146.6734642 ,\n",
       "       -38.71966279, 156.51212445, -59.49343216, 151.14714004,\n",
       "       143.36690563, -38.56839246, -44.33006455, -50.2832964 ,\n",
       "       140.51175646, -38.22127895, -56.31754684, 139.53412691,\n",
       "       135.04424696, 165.97933844, -44.38160244, 147.1454609 ])"
      ]
     },
     "execution_count": 19,
     "metadata": {},
     "output_type": "execute_result"
    }
   ],
   "source": [
    "# Finds all of the observations with two standard deviations or more.\n",
    "x[zscores.abs() >= 2]"
   ]
  },
  {
   "cell_type": "code",
   "execution_count": 20,
   "id": "90a6f702",
   "metadata": {},
   "outputs": [
    {
     "data": {
      "text/plain": [
       "44"
      ]
     },
     "execution_count": 20,
     "metadata": {},
     "output_type": "execute_result"
    }
   ],
   "source": [
    "#how many observations is this \n",
    "len(x[zscores.abs() >= 2])"
   ]
  },
  {
   "cell_type": "code",
   "execution_count": 21,
   "id": "11b3afd7",
   "metadata": {},
   "outputs": [
    {
     "data": {
      "text/plain": [
       "array([187.33639597])"
      ]
     },
     "execution_count": 21,
     "metadata": {},
     "output_type": "execute_result"
    }
   ],
   "source": [
    "# Finds all of the observations with three standard deviations or more\n",
    "x[zscores.abs() >= 3]"
   ]
  },
  {
   "cell_type": "markdown",
   "id": "00ba9b93",
   "metadata": {},
   "source": [
    "<b>Note:</b>\n",
    "\n",
    "- As we can see above we went from 43 observations that were 2 standard deviations of more away to <b>one</b> observation"
   ]
  },
  {
   "cell_type": "markdown",
   "id": "5813927b",
   "metadata": {},
   "source": [
    "<hr style=\"border:1px solid black\">"
   ]
  },
  {
   "cell_type": "markdown",
   "id": "2f77604c",
   "metadata": {},
   "source": [
    "## \"Black Swan\""
   ]
  },
  {
   "cell_type": "markdown",
   "id": "6da8c13f",
   "metadata": {},
   "source": [
    "Where did the name come from?\n",
    "- Europeans originally thought that swans were only white. So as far as they knew, black swans did not exist. That is, until they traveled to colonize Australia... Thus \"black swam\" became the term to define someone super unlikely.\n",
    "\n",
    "This refers to :\n",
    "- very strong anomaly- in the field of novalty\n",
    "- extremely low frequency events that have an exponentially powerful impact\n",
    "- far outside the typical probabilty\n",
    "- very far end of the tail of distribution (bell curve)\n",
    "\n",
    "Black Swan Example:\n",
    "- 1987 stock exchange crash\n",
    "- Dow Jones fell 508 points in a single day\n",
    "- This accounted for 23% of value of Dow Jones\n",
    "- This event was found to be <b><u>25</b></u> standard deviations away from the mean.\n",
    "\n",
    "<i>Just because something is exceptionally improbable, doesn't mean it <b>can't</b> happen. If a black swan event does occur, it has the potential to change all of your data from that point on.\n"
   ]
  },
  {
   "cell_type": "markdown",
   "id": "0ada786a",
   "metadata": {},
   "source": [
    "<hr style=\"border:1px solid black\">"
   ]
  },
  {
   "cell_type": "markdown",
   "id": "67039c53",
   "metadata": {},
   "source": [
    "# Code it out\n",
    "Let's bring back the ```swiss``` dataset!"
   ]
  },
  {
   "cell_type": "code",
   "execution_count": 22,
   "id": "365e97f2",
   "metadata": {},
   "outputs": [],
   "source": [
    "#import from pydataset\n",
    "swiss = data('swiss')"
   ]
  },
  {
   "cell_type": "code",
   "execution_count": 23,
   "id": "f73ced8b",
   "metadata": {},
   "outputs": [
    {
     "name": "stdout",
     "output_type": "stream",
     "text": [
      "<class 'pandas.core.frame.DataFrame'>\n",
      "Index: 47 entries, Courtelary to Rive Gauche\n",
      "Data columns (total 6 columns):\n",
      " #   Column            Non-Null Count  Dtype  \n",
      "---  ------            --------------  -----  \n",
      " 0   Fertility         47 non-null     float64\n",
      " 1   Agriculture       47 non-null     float64\n",
      " 2   Examination       47 non-null     int64  \n",
      " 3   Education         47 non-null     int64  \n",
      " 4   Catholic          47 non-null     float64\n",
      " 5   Infant.Mortality  47 non-null     float64\n",
      "dtypes: float64(4), int64(2)\n",
      "memory usage: 2.6+ KB\n"
     ]
    }
   ],
   "source": [
    "#take a look\n",
    "swiss.info()"
   ]
  },
  {
   "cell_type": "code",
   "execution_count": 24,
   "id": "581a5261",
   "metadata": {},
   "outputs": [
    {
     "data": {
      "text/html": [
       "<div>\n",
       "<style scoped>\n",
       "    .dataframe tbody tr th:only-of-type {\n",
       "        vertical-align: middle;\n",
       "    }\n",
       "\n",
       "    .dataframe tbody tr th {\n",
       "        vertical-align: top;\n",
       "    }\n",
       "\n",
       "    .dataframe thead th {\n",
       "        text-align: right;\n",
       "    }\n",
       "</style>\n",
       "<table border=\"1\" class=\"dataframe\">\n",
       "  <thead>\n",
       "    <tr style=\"text-align: right;\">\n",
       "      <th></th>\n",
       "      <th>Fertility</th>\n",
       "      <th>Agriculture</th>\n",
       "      <th>Examination</th>\n",
       "      <th>Education</th>\n",
       "      <th>Catholic</th>\n",
       "      <th>Infant.Mortality</th>\n",
       "    </tr>\n",
       "  </thead>\n",
       "  <tbody>\n",
       "    <tr>\n",
       "      <th>count</th>\n",
       "      <td>47.000000</td>\n",
       "      <td>47.000000</td>\n",
       "      <td>47.000000</td>\n",
       "      <td>47.000000</td>\n",
       "      <td>47.00000</td>\n",
       "      <td>47.000000</td>\n",
       "    </tr>\n",
       "    <tr>\n",
       "      <th>mean</th>\n",
       "      <td>70.142553</td>\n",
       "      <td>50.659574</td>\n",
       "      <td>16.489362</td>\n",
       "      <td>10.978723</td>\n",
       "      <td>41.14383</td>\n",
       "      <td>19.942553</td>\n",
       "    </tr>\n",
       "    <tr>\n",
       "      <th>std</th>\n",
       "      <td>12.491697</td>\n",
       "      <td>22.711218</td>\n",
       "      <td>7.977883</td>\n",
       "      <td>9.615407</td>\n",
       "      <td>41.70485</td>\n",
       "      <td>2.912697</td>\n",
       "    </tr>\n",
       "    <tr>\n",
       "      <th>min</th>\n",
       "      <td>35.000000</td>\n",
       "      <td>1.200000</td>\n",
       "      <td>3.000000</td>\n",
       "      <td>1.000000</td>\n",
       "      <td>2.15000</td>\n",
       "      <td>10.800000</td>\n",
       "    </tr>\n",
       "    <tr>\n",
       "      <th>25%</th>\n",
       "      <td>64.700000</td>\n",
       "      <td>35.900000</td>\n",
       "      <td>12.000000</td>\n",
       "      <td>6.000000</td>\n",
       "      <td>5.19500</td>\n",
       "      <td>18.150000</td>\n",
       "    </tr>\n",
       "    <tr>\n",
       "      <th>50%</th>\n",
       "      <td>70.400000</td>\n",
       "      <td>54.100000</td>\n",
       "      <td>16.000000</td>\n",
       "      <td>8.000000</td>\n",
       "      <td>15.14000</td>\n",
       "      <td>20.000000</td>\n",
       "    </tr>\n",
       "    <tr>\n",
       "      <th>75%</th>\n",
       "      <td>78.450000</td>\n",
       "      <td>67.650000</td>\n",
       "      <td>22.000000</td>\n",
       "      <td>12.000000</td>\n",
       "      <td>93.12500</td>\n",
       "      <td>21.700000</td>\n",
       "    </tr>\n",
       "    <tr>\n",
       "      <th>max</th>\n",
       "      <td>92.500000</td>\n",
       "      <td>89.700000</td>\n",
       "      <td>37.000000</td>\n",
       "      <td>53.000000</td>\n",
       "      <td>100.00000</td>\n",
       "      <td>26.600000</td>\n",
       "    </tr>\n",
       "  </tbody>\n",
       "</table>\n",
       "</div>"
      ],
      "text/plain": [
       "       Fertility  Agriculture  Examination  Education   Catholic  \\\n",
       "count  47.000000    47.000000    47.000000  47.000000   47.00000   \n",
       "mean   70.142553    50.659574    16.489362  10.978723   41.14383   \n",
       "std    12.491697    22.711218     7.977883   9.615407   41.70485   \n",
       "min    35.000000     1.200000     3.000000   1.000000    2.15000   \n",
       "25%    64.700000    35.900000    12.000000   6.000000    5.19500   \n",
       "50%    70.400000    54.100000    16.000000   8.000000   15.14000   \n",
       "75%    78.450000    67.650000    22.000000  12.000000   93.12500   \n",
       "max    92.500000    89.700000    37.000000  53.000000  100.00000   \n",
       "\n",
       "       Infant.Mortality  \n",
       "count         47.000000  \n",
       "mean          19.942553  \n",
       "std            2.912697  \n",
       "min           10.800000  \n",
       "25%           18.150000  \n",
       "50%           20.000000  \n",
       "75%           21.700000  \n",
       "max           26.600000  "
      ]
     },
     "execution_count": 24,
     "metadata": {},
     "output_type": "execute_result"
    }
   ],
   "source": [
    "#descriptive stats\n",
    "swiss.describe()"
   ]
  },
  {
   "cell_type": "markdown",
   "id": "1381da09",
   "metadata": {},
   "source": [
    "<b>Visualize</b>"
   ]
  },
  {
   "cell_type": "code",
   "execution_count": 25,
   "id": "bc09ab84",
   "metadata": {
    "scrolled": false
   },
   "outputs": [
    {
     "data": {
      "image/png": "[encoded data removed]",
      "text/plain": [
       "<Figure size 640x480 with 1 Axes>"
      ]
     },
     "metadata": {},
     "output_type": "display_data"
    },
    {
     "data": {
      "image/png": "[encoded data removed]",
      "text/plain": [
       "<Figure size 640x480 with 1 Axes>"
      ]
     },
     "metadata": {},
     "output_type": "display_data"
    },
    {
     "name": "stdout",
     "output_type": "stream",
     "text": [
      "------------\n"
     ]
    },
    {
     "data": {
      "image/png": "[encoded data removed]",
      "text/plain": [
       "<Figure size 640x480 with 1 Axes>"
      ]
     },
     "metadata": {},
     "output_type": "display_data"
    },
    {
     "data": {
      "image/png": "[encoded data removed]",
      "text/plain": [
       "<Figure size 640x480 with 1 Axes>"
      ]
     },
     "metadata": {},
     "output_type": "display_data"
    },
    {
     "name": "stdout",
     "output_type": "stream",
     "text": [
      "------------\n"
     ]
    },
    {
     "data": {
      "image/png": "[encoded data removed]",
      "text/plain": [
       "<Figure size 640x480 with 1 Axes>"
      ]
     },
     "metadata": {},
     "output_type": "display_data"
    },
    {
     "data": {
      "image/png": "[encoded data removed]",
      "text/plain": [
       "<Figure size 640x480 with 1 Axes>"
      ]
     },
     "metadata": {},
     "output_type": "display_data"
    },
    {
     "name": "stdout",
     "output_type": "stream",
     "text": [
      "------------\n"
     ]
    },
    {
     "data": {
      "image/png": "[encoded data removed]",
      "text/plain": [
       "<Figure size 640x480 with 1 Axes>"
      ]
     },
     "metadata": {},
     "output_type": "display_data"
    },
    {
     "data": {
      "image/png": "[encoded data removed]",
      "text/plain": [
       "<Figure size 640x480 with 1 Axes>"
      ]
     },
     "metadata": {},
     "output_type": "display_data"
    },
    {
     "name": "stdout",
     "output_type": "stream",
     "text": [
      "------------\n"
     ]
    },
    {
     "data": {
      "image/png": "[encoded data removed]",
      "text/plain": [
       "<Figure size 640x480 with 1 Axes>"
      ]
     },
     "metadata": {},
     "output_type": "display_data"
    },
    {
     "data": {
      "image/png": "[encoded data removed]",
      "text/plain": [
       "<Figure size 640x480 with 1 Axes>"
      ]
     },
     "metadata": {},
     "output_type": "display_data"
    },
    {
     "name": "stdout",
     "output_type": "stream",
     "text": [
      "------------\n"
     ]
    },
    {
     "data": {
      "image/png": "[encoded data removed]",
      "text/plain": [
       "<Figure size 640x480 with 1 Axes>"
      ]
     },
     "metadata": {},
     "output_type": "display_data"
    },
    {
     "data": {
      "image/png": "[encoded data removed]",
      "text/plain": [
       "<Figure size 640x480 with 1 Axes>"
      ]
     },
     "metadata": {},
     "output_type": "display_data"
    },
    {
     "name": "stdout",
     "output_type": "stream",
     "text": [
      "------------\n"
     ]
    }
   ],
   "source": [
    "cols = swiss.columns.to_list()    \n",
    "\n",
    "for col in cols:\n",
    "    plt.hist(swiss[col])\n",
    "    plt.title(col.replace('_',' ').capitalize())\n",
    "    plt.show()\n",
    "    sns.boxplot(data=swiss, x=col)\n",
    "    plt.show()\n",
    "    print('------------')"
   ]
  },
  {
   "cell_type": "markdown",
   "id": "c0ca52fd",
   "metadata": {},
   "source": [
    "<b>Takeaways</b>:\n",
    "- ```Fertility```: There appear to be some outliers here with the break in the histogram and the box plot \n",
    "- ```Agriculture```: no evident outliers\n",
    "- ```Examination```: no evident outliers\n",
    "- ```Education```: appears to have several outliers\n",
    "- ```Catholic```: In the histogram there appears to be an outlier, but the boxplot doesn't show it\n",
    "- ```Infant.Mortality```: there does appear to be an outlier"
   ]
  },
  {
   "cell_type": "markdown",
   "id": "66b13495",
   "metadata": {},
   "source": [
    "<hr style=\"border:1px solid black\">\n",
    "<hr style=\"border:1px solid black\">"
   ]
  },
  {
   "cell_type": "markdown",
   "id": "9cc5eaad",
   "metadata": {},
   "source": [
    "<hr style=\"border:1px solid black\">"
   ]
  },
  {
   "cell_type": "markdown",
   "id": "a312ce66",
   "metadata": {},
   "source": [
    "## IQR"
   ]
  },
  {
   "cell_type": "markdown",
   "id": "b8af36bc",
   "metadata": {},
   "source": [
    "Visualizing:\n",
    "- box and whisker plot will tell you the fences, mean, and outliers (dots)\n",
    "\n",
    "Calculating Fences:\n",
    "- lower fence: Q1 - multiplier * IQR\n",
    "- upper fence: Q3 + multiplier * IQR\n",
    "    \n",
    "Determining Multiplier:\n",
    "- This is how far a point has to be to be considered and outlier\n",
    "- 1.5 is typical inner fence\n",
    "- 3 is for more extreme outliers (outer fence)"
   ]
  },
  {
   "cell_type": "code",
   "execution_count": 26,
   "id": "b7bba9a9",
   "metadata": {},
   "outputs": [
    {
     "data": {
      "text/plain": [
       "12.0"
      ]
     },
     "execution_count": 26,
     "metadata": {},
     "output_type": "execute_result"
    }
   ],
   "source": [
    "#get the 1st quantile of examination column\n",
    "swiss.Examination.quantile(0.25)"
   ]
  },
  {
   "cell_type": "markdown",
   "id": "93cfcf5a",
   "metadata": {},
   "source": [
    "<b>Note</b>:\n",
    "- When the multiplier is set to 1.5, this is an inner fence.\n",
    "- When the multiplier is set to 3, this is an outer fence."
   ]
  },
  {
   "cell_type": "code",
   "execution_count": 27,
   "id": "abf9e452",
   "metadata": {},
   "outputs": [],
   "source": [
    "#start with an inner fence calculation\n",
    "multiplier =1.5\n",
    "\n",
    "#calculate our q1 and q3\n",
    "q1 = swiss.Examination.quantile(0.25)\n",
    "q3 = swiss.Examination.quantile(0.75)\n",
    "iqr = q3-q1"
   ]
  },
  {
   "cell_type": "code",
   "execution_count": 28,
   "id": "da5c6662",
   "metadata": {},
   "outputs": [
    {
     "data": {
      "text/plain": [
       "(12.0, 22.0, 10.0)"
      ]
     },
     "execution_count": 28,
     "metadata": {},
     "output_type": "execute_result"
    }
   ],
   "source": [
    "q1, q3, iqr"
   ]
  },
  {
   "cell_type": "code",
   "execution_count": 29,
   "id": "682e4ecf",
   "metadata": {},
   "outputs": [],
   "source": [
    "#because we are using 1.5 as our multiplier- this will be an inner fence\n",
    "inner_lower_fence = q1 - (multiplier * iqr) \n",
    "inner_upper_fence = q3 + (multiplier * iqr) "
   ]
  },
  {
   "cell_type": "code",
   "execution_count": 30,
   "id": "7d2f9130",
   "metadata": {},
   "outputs": [
    {
     "data": {
      "text/html": [
       "<div>\n",
       "<style scoped>\n",
       "    .dataframe tbody tr th:only-of-type {\n",
       "        vertical-align: middle;\n",
       "    }\n",
       "\n",
       "    .dataframe tbody tr th {\n",
       "        vertical-align: top;\n",
       "    }\n",
       "\n",
       "    .dataframe thead th {\n",
       "        text-align: right;\n",
       "    }\n",
       "</style>\n",
       "<table border=\"1\" class=\"dataframe\">\n",
       "  <thead>\n",
       "    <tr style=\"text-align: right;\">\n",
       "      <th></th>\n",
       "      <th>Fertility</th>\n",
       "      <th>Agriculture</th>\n",
       "      <th>Examination</th>\n",
       "      <th>Education</th>\n",
       "      <th>Catholic</th>\n",
       "      <th>Infant.Mortality</th>\n",
       "    </tr>\n",
       "  </thead>\n",
       "  <tbody>\n",
       "  </tbody>\n",
       "</table>\n",
       "</div>"
      ],
      "text/plain": [
       "Empty DataFrame\n",
       "Columns: [Fertility, Agriculture, Examination, Education, Catholic, Infant.Mortality]\n",
       "Index: []"
      ]
     },
     "execution_count": 30,
     "metadata": {},
     "output_type": "execute_result"
    }
   ],
   "source": [
    "#check out the dataframe where examination is under our fences (lower OR upper)\n",
    "#using pipe for boolean operator \"OR\"\n",
    "swiss[(swiss['Examination'] < inner_lower_fence) | (swiss['Examination'] > inner_upper_fence)]"
   ]
  },
  {
   "cell_type": "code",
   "execution_count": 31,
   "id": "5808249e",
   "metadata": {},
   "outputs": [
    {
     "data": {
      "text/plain": [
       "<Axes: xlabel='Examination'>"
      ]
     },
     "execution_count": 31,
     "metadata": {},
     "output_type": "execute_result"
    },
    {
     "data": {
      "image/png": "[encoded data removed]",
      "text/plain": [
       "<Figure size 640x480 with 1 Axes>"
      ]
     },
     "metadata": {},
     "output_type": "display_data"
    }
   ],
   "source": [
    "sns.boxplot(data=swiss, x='Examination')"
   ]
  },
  {
   "cell_type": "markdown",
   "id": "cecb9a42",
   "metadata": {},
   "source": [
    "<b>Takeaways</b>:\n",
    "- The IQR confirms what the boxplot already showed us. Examination has no values outside of its fences. Therefore, it has no outliers."
   ]
  },
  {
   "cell_type": "markdown",
   "id": "c780b12b",
   "metadata": {},
   "source": [
    "<hr style=\"border:1px solid black\">\n",
    "<hr style=\"border:1px solid black\">"
   ]
  },
  {
   "cell_type": "markdown",
   "id": "54ece213",
   "metadata": {},
   "source": [
    "## Using Z-score"
   ]
  },
  {
   "cell_type": "markdown",
   "id": "39c9e934",
   "metadata": {},
   "source": [
    "<b>Exponential Tails of the Normal Distribution"
   ]
  },
  {
   "cell_type": "markdown",
   "id": "b79ab608",
   "metadata": {},
   "source": [
    "![](tails_of_normal_distrib.png)"
   ]
  },
  {
   "cell_type": "markdown",
   "id": "d365d0b7",
   "metadata": {},
   "source": [
    "If an event that is +/- 6 standard deviations from the mean is supposed to occure every 1.4 millions years... the stock crash of 1987 is so highly unlikely that it shouldn't have happened in all of lifetimes combined <b>but</b> it is possible!"
   ]
  },
  {
   "cell_type": "markdown",
   "id": "b035482c",
   "metadata": {},
   "source": [
    "<b>Calculation for Z-Score</b>:\n",
    "z = (x-x_mean)/x_std"
   ]
  },
  {
   "cell_type": "markdown",
   "id": "a4f453c1",
   "metadata": {},
   "source": [
    "###  ```Infant.Mortality```"
   ]
  },
  {
   "cell_type": "code",
   "execution_count": 32,
   "id": "84a657d8",
   "metadata": {},
   "outputs": [],
   "source": [
    "#assign a new column to the zscores for infant mortality\n",
    "swiss['infant_mortality_zscores'] = (swiss['Infant.Mortality'] - swiss['Infant.Mortality'].mean()) / swiss['Infant.Mortality'].std()"
   ]
  },
  {
   "cell_type": "code",
   "execution_count": 33,
   "id": "b2c59a22",
   "metadata": {},
   "outputs": [
    {
     "data": {
      "text/plain": [
       "Courtelary      0.775037\n",
       "Delemont        0.775037\n",
       "Franches-Mnt    0.088388\n",
       "Moutier         0.122720\n",
       "Neuveville      0.225718\n",
       "Porrentruy      2.285664\n",
       "Broye           1.255691\n",
       "Glane           1.702013\n",
       "Gruyere         0.363047\n",
       "Sarine          1.530350\n",
       "Veveyse         1.564683\n",
       "Aigle          -1.181913\n",
       "Aubonne        -0.289269\n",
       "Avenches        0.946699\n",
       "Cossonay       -0.426599\n",
       "Echallens       0.431712\n",
       "Grandson        0.019723\n",
       "Lausanne        0.088388\n",
       "La Vallee      -3.138862\n",
       "Lavaux          0.019723\n",
       "Morges         -0.666926\n",
       "Moudon          0.843702\n",
       "Nyone          -1.113248\n",
       "Orbe           -1.593902\n",
       "Oron            0.363047\n",
       "Payerne         1.324356\n",
       "Paysd'enhaut   -0.666926\n",
       "Rolle          -1.250578\n",
       "Vevey           0.328715\n",
       "Yverdon         0.878034\n",
       "Conthey        -1.662567\n",
       "Entremont      -0.048942\n",
       "Herens         -0.563929\n",
       "Martigwy       -0.186272\n",
       "Monthey         0.088388\n",
       "St Maurice     -0.735591\n",
       "Sierre         -1.250578\n",
       "Sion           -0.632594\n",
       "Boudry          0.122720\n",
       "La Chauxdfnd    0.191385\n",
       "Le Locle       -0.357934\n",
       "Neuchatel       1.049696\n",
       "Val de Ruz      0.019723\n",
       "ValdeTravers   -0.151939\n",
       "V. De Geneve   -0.666926\n",
       "Rive Droite    -0.598261\n",
       "Rive Gauche    -0.220604\n",
       "Name: infant_mortality_zscores, dtype: float64"
      ]
     },
     "execution_count": 33,
     "metadata": {},
     "output_type": "execute_result"
    }
   ],
   "source": [
    "#look at z-scores for all of the datapoints within the dataframe\n",
    "swiss['infant_mortality_zscores']"
   ]
  },
  {
   "cell_type": "code",
   "execution_count": 34,
   "id": "3071f81a",
   "metadata": {},
   "outputs": [
    {
     "data": {
      "text/html": [
       "<div>\n",
       "<style scoped>\n",
       "    .dataframe tbody tr th:only-of-type {\n",
       "        vertical-align: middle;\n",
       "    }\n",
       "\n",
       "    .dataframe tbody tr th {\n",
       "        vertical-align: top;\n",
       "    }\n",
       "\n",
       "    .dataframe thead th {\n",
       "        text-align: right;\n",
       "    }\n",
       "</style>\n",
       "<table border=\"1\" class=\"dataframe\">\n",
       "  <thead>\n",
       "    <tr style=\"text-align: right;\">\n",
       "      <th></th>\n",
       "      <th>Fertility</th>\n",
       "      <th>Agriculture</th>\n",
       "      <th>Examination</th>\n",
       "      <th>Education</th>\n",
       "      <th>Catholic</th>\n",
       "      <th>Infant.Mortality</th>\n",
       "      <th>infant_mortality_zscores</th>\n",
       "    </tr>\n",
       "  </thead>\n",
       "  <tbody>\n",
       "    <tr>\n",
       "      <th>La Vallee</th>\n",
       "      <td>54.3</td>\n",
       "      <td>15.2</td>\n",
       "      <td>31</td>\n",
       "      <td>20</td>\n",
       "      <td>2.15</td>\n",
       "      <td>10.8</td>\n",
       "      <td>-3.138862</td>\n",
       "    </tr>\n",
       "  </tbody>\n",
       "</table>\n",
       "</div>"
      ],
      "text/plain": [
       "           Fertility  Agriculture  Examination  Education  Catholic  \\\n",
       "La Vallee       54.3         15.2           31         20      2.15   \n",
       "\n",
       "           Infant.Mortality  infant_mortality_zscores  \n",
       "La Vallee              10.8                 -3.138862  "
      ]
     },
     "execution_count": 34,
     "metadata": {},
     "output_type": "execute_result"
    }
   ],
   "source": [
    "#Let's look to see if anything falls outside of 3 standard deviations\n",
    "#If it does, this could be an anomaly\n",
    "swiss[swiss['infant_mortality_zscores'].abs() >= 3]"
   ]
  },
  {
   "cell_type": "code",
   "execution_count": 35,
   "id": "0aa31564",
   "metadata": {},
   "outputs": [
    {
     "data": {
      "text/plain": [
       "<Axes: xlabel='Infant.Mortality'>"
      ]
     },
     "execution_count": 35,
     "metadata": {},
     "output_type": "execute_result"
    },
    {
     "data": {
      "image/png": "[encoded data removed]",
      "text/plain": [
       "<Figure size 640x480 with 1 Axes>"
      ]
     },
     "metadata": {},
     "output_type": "display_data"
    }
   ],
   "source": [
    "sns.boxplot(data=swiss, x='Infant.Mortality')"
   ]
  },
  {
   "cell_type": "markdown",
   "id": "74ef4ef6",
   "metadata": {},
   "source": [
    "<b>Takeaways</b>:\n",
    "- The z-scores (stats) and boxplot (visuals) together tell us that ```Infant.Mortality``` could have an anomaly.\n",
    "<br>\n",
    "\n",
    "- This should bring us to ask questions...\n",
    "<br>\n",
    "\n",
    "- What is going on in La Vallee?\n",
    "- Why do they have an exceptionally low infant mortality?\n",
    "- Was this data entered incorrectly (human error) or is it actually an anomaly?"
   ]
  },
  {
   "cell_type": "markdown",
   "id": "cff1bf8f",
   "metadata": {},
   "source": [
    "<hr style=\"border:1px solid black\">"
   ]
  },
  {
   "cell_type": "markdown",
   "id": "5bb47cbb",
   "metadata": {},
   "source": [
    "### ```Examination```"
   ]
  },
  {
   "cell_type": "code",
   "execution_count": 36,
   "id": "bb087a25",
   "metadata": {},
   "outputs": [],
   "source": [
    "#assign a new column to the zscores for Examination\n",
    "swiss['examination_zscores'] = (swiss['Examination'] - swiss['Examination'].mean()) / swiss['Examination'].std()"
   ]
  },
  {
   "cell_type": "code",
   "execution_count": 37,
   "id": "843aeb07",
   "metadata": {},
   "outputs": [
    {
     "data": {
      "text/plain": [
       "Courtelary     -0.186686\n",
       "Delemont       -1.314805\n",
       "Franches-Mnt   -1.440152\n",
       "Moutier        -0.562726\n",
       "Neuveville      0.064007\n",
       "Porrentruy     -0.938766\n",
       "Broye          -0.061340\n",
       "Glane          -0.312033\n",
       "Gruyere        -0.562726\n",
       "Sarine         -0.061340\n",
       "Veveyse        -0.312033\n",
       "Aigle           0.565393\n",
       "Aubonne        -0.312033\n",
       "Avenches        0.314700\n",
       "Cossonay        0.690739\n",
       "Echallens       0.189353\n",
       "Grandson        0.064007\n",
       "Lausanne        1.192126\n",
       "La Vallee       1.818858\n",
       "Lavaux          0.314700\n",
       "Morges          0.690739\n",
       "Moudon         -0.312033\n",
       "Nyone           0.690739\n",
       "Orbe            0.440046\n",
       "Oron           -0.562726\n",
       "Payerne        -0.312033\n",
       "Paysd'enhaut   -1.314805\n",
       "Rolle          -0.061340\n",
       "Vevey           1.066779\n",
       "Yverdon        -0.186686\n",
       "Conthey        -1.690845\n",
       "Entremont      -1.189459\n",
       "Herens         -1.440152\n",
       "Martigwy       -0.562726\n",
       "Monthey        -1.189459\n",
       "St Maurice     -0.938766\n",
       "Sierre         -1.690845\n",
       "Sion           -0.437379\n",
       "Boudry          1.192126\n",
       "La Chauxdfnd    1.568165\n",
       "Le Locle        0.690739\n",
       "Neuchatel       2.320244\n",
       "Val de Ruz     -0.186686\n",
       "ValdeTravers    1.066779\n",
       "V. De Geneve    2.570937\n",
       "Rive Droite    -0.061340\n",
       "Rive Gauche     0.690739\n",
       "Name: examination_zscores, dtype: float64"
      ]
     },
     "execution_count": 37,
     "metadata": {},
     "output_type": "execute_result"
    }
   ],
   "source": [
    "swiss['examination_zscores']"
   ]
  },
  {
   "cell_type": "code",
   "execution_count": 38,
   "id": "8fa9aaa5",
   "metadata": {},
   "outputs": [
    {
     "data": {
      "text/html": [
       "<div>\n",
       "<style scoped>\n",
       "    .dataframe tbody tr th:only-of-type {\n",
       "        vertical-align: middle;\n",
       "    }\n",
       "\n",
       "    .dataframe tbody tr th {\n",
       "        vertical-align: top;\n",
       "    }\n",
       "\n",
       "    .dataframe thead th {\n",
       "        text-align: right;\n",
       "    }\n",
       "</style>\n",
       "<table border=\"1\" class=\"dataframe\">\n",
       "  <thead>\n",
       "    <tr style=\"text-align: right;\">\n",
       "      <th></th>\n",
       "      <th>Fertility</th>\n",
       "      <th>Agriculture</th>\n",
       "      <th>Examination</th>\n",
       "      <th>Education</th>\n",
       "      <th>Catholic</th>\n",
       "      <th>Infant.Mortality</th>\n",
       "      <th>infant_mortality_zscores</th>\n",
       "      <th>examination_zscores</th>\n",
       "    </tr>\n",
       "  </thead>\n",
       "  <tbody>\n",
       "    <tr>\n",
       "      <th>Neuchatel</th>\n",
       "      <td>64.4</td>\n",
       "      <td>17.6</td>\n",
       "      <td>35</td>\n",
       "      <td>32</td>\n",
       "      <td>16.92</td>\n",
       "      <td>23.0</td>\n",
       "      <td>1.049696</td>\n",
       "      <td>2.320244</td>\n",
       "    </tr>\n",
       "    <tr>\n",
       "      <th>V. De Geneve</th>\n",
       "      <td>35.0</td>\n",
       "      <td>1.2</td>\n",
       "      <td>37</td>\n",
       "      <td>53</td>\n",
       "      <td>42.34</td>\n",
       "      <td>18.0</td>\n",
       "      <td>-0.666926</td>\n",
       "      <td>2.570937</td>\n",
       "    </tr>\n",
       "  </tbody>\n",
       "</table>\n",
       "</div>"
      ],
      "text/plain": [
       "              Fertility  Agriculture  Examination  Education  Catholic  \\\n",
       "Neuchatel          64.4         17.6           35         32     16.92   \n",
       "V. De Geneve       35.0          1.2           37         53     42.34   \n",
       "\n",
       "              Infant.Mortality  infant_mortality_zscores  examination_zscores  \n",
       "Neuchatel                 23.0                  1.049696             2.320244  \n",
       "V. De Geneve              18.0                 -0.666926             2.570937  "
      ]
     },
     "execution_count": 38,
     "metadata": {},
     "output_type": "execute_result"
    }
   ],
   "source": [
    "#Let's look to see if anything falls outside of 2 standard deviations\n",
    "#If it does, this could be an anomaly\n",
    "swiss[swiss['examination_zscores'].abs() >= 2]"
   ]
  },
  {
   "cell_type": "code",
   "execution_count": 39,
   "id": "5da03c4f",
   "metadata": {},
   "outputs": [],
   "source": [
    "#IQR\n",
    "inner_multiplier = 1.5\n",
    "q1 = swiss['Infant.Mortality'].quantile(0.25)\n",
    "q3= swiss['Infant.Mortality'].quantile(0.75)\n",
    "iqr= q3- q1"
   ]
  },
  {
   "cell_type": "code",
   "execution_count": 40,
   "id": "c1b8324c",
   "metadata": {},
   "outputs": [],
   "source": [
    "inner_lower_fence = q1 - (inner_multiplier * iqr)\n",
    "inner_upper_fence = q3 + (inner_multiplier * iqr)"
   ]
  },
  {
   "cell_type": "code",
   "execution_count": 41,
   "id": "32d998dd",
   "metadata": {},
   "outputs": [
    {
     "data": {
      "text/html": [
       "<div>\n",
       "<style scoped>\n",
       "    .dataframe tbody tr th:only-of-type {\n",
       "        vertical-align: middle;\n",
       "    }\n",
       "\n",
       "    .dataframe tbody tr th {\n",
       "        vertical-align: top;\n",
       "    }\n",
       "\n",
       "    .dataframe thead th {\n",
       "        text-align: right;\n",
       "    }\n",
       "</style>\n",
       "<table border=\"1\" class=\"dataframe\">\n",
       "  <thead>\n",
       "    <tr style=\"text-align: right;\">\n",
       "      <th></th>\n",
       "      <th>Fertility</th>\n",
       "      <th>Agriculture</th>\n",
       "      <th>Examination</th>\n",
       "      <th>Education</th>\n",
       "      <th>Catholic</th>\n",
       "      <th>Infant.Mortality</th>\n",
       "      <th>infant_mortality_zscores</th>\n",
       "      <th>examination_zscores</th>\n",
       "    </tr>\n",
       "  </thead>\n",
       "  <tbody>\n",
       "    <tr>\n",
       "      <th>La Vallee</th>\n",
       "      <td>54.3</td>\n",
       "      <td>15.2</td>\n",
       "      <td>31</td>\n",
       "      <td>20</td>\n",
       "      <td>2.15</td>\n",
       "      <td>10.8</td>\n",
       "      <td>-3.138862</td>\n",
       "      <td>1.818858</td>\n",
       "    </tr>\n",
       "  </tbody>\n",
       "</table>\n",
       "</div>"
      ],
      "text/plain": [
       "           Fertility  Agriculture  Examination  Education  Catholic  \\\n",
       "La Vallee       54.3         15.2           31         20      2.15   \n",
       "\n",
       "           Infant.Mortality  infant_mortality_zscores  examination_zscores  \n",
       "La Vallee              10.8                 -3.138862             1.818858  "
      ]
     },
     "execution_count": 41,
     "metadata": {},
     "output_type": "execute_result"
    }
   ],
   "source": [
    "swiss[(swiss['Infant.Mortality'] < inner_lower_fence) | (swiss['Infant.Mortality'] > inner_upper_fence)]"
   ]
  },
  {
   "cell_type": "markdown",
   "id": "88d82d46",
   "metadata": {},
   "source": [
    "<b>Note</b>:\n",
    "- 2 standard deviations contains 95% of the data\n",
    "- We might want to investigate ```examination``` further"
   ]
  }
 ],
 "metadata": {
  "kernelspec": {
   "display_name": "Python 3 (ipykernel)",
   "language": "python",
   "name": "python3"
  },
  "language_info": {
   "codemirror_mode": {
    "name": "ipython",
    "version": 3
   },
   "file_extension": ".py",
   "mimetype": "text/x-python",
   "name": "python",
   "nbconvert_exporter": "python",
   "pygments_lexer": "ipython3",
   "version": "3.10.9"
  }
 },
 "nbformat": 4,
 "nbformat_minor": 5
}
